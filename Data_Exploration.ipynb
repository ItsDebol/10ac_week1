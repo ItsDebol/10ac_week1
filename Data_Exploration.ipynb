{
 "cells": [
  {
   "cell_type": "code",
   "execution_count": 153,
   "id": "k3I4pJ2t4Nhr",
   "metadata": {
    "colab": {
     "base_uri": "https://localhost:8080/"
    },
    "executionInfo": {
     "elapsed": 100356,
     "status": "ok",
     "timestamp": 1626169531595,
     "user": {
      "displayName": "Kevin Karobia",
      "photoUrl": "",
      "userId": "11620910033834049837"
     },
     "user_tz": -180
    },
    "id": "k3I4pJ2t4Nhr",
    "outputId": "a2e04c13-2646-438a-c54b-2d4fedeb1f9c"
   },
   "outputs": [],
   "source": [
    "import pandas as pd\n",
    "import numpy as np\n",
    "import seaborn as sns\n",
    "import matplotlib.pyplot as plt"
   ]
  },
  {
   "cell_type": "code",
   "execution_count": 154,
   "id": "wg0hDp-U4CBL",
   "metadata": {
    "colab": {
     "base_uri": "https://localhost:8080/"
    },
    "executionInfo": {
     "elapsed": 1122,
     "status": "ok",
     "timestamp": 1626169536287,
     "user": {
      "displayName": "Kevin Karobia",
      "photoUrl": "",
      "userId": "11620910033834049837"
     },
     "user_tz": -180
    },
    "id": "wg0hDp-U4CBL",
    "outputId": "1b43ae1e-7fa9-4152-c5c2-5dd5cdcca4cb"
   },
   "outputs": [
    {
     "data": {
      "text/html": [
       "<div>\n",
       "<style scoped>\n",
       "    .dataframe tbody tr th:only-of-type {\n",
       "        vertical-align: middle;\n",
       "    }\n",
       "\n",
       "    .dataframe tbody tr th {\n",
       "        vertical-align: top;\n",
       "    }\n",
       "\n",
       "    .dataframe thead th {\n",
       "        text-align: right;\n",
       "    }\n",
       "</style>\n",
       "<table border=\"1\" class=\"dataframe\">\n",
       "  <thead>\n",
       "    <tr style=\"text-align: right;\">\n",
       "      <th></th>\n",
       "      <th>Bearer Id</th>\n",
       "      <th>Start</th>\n",
       "      <th>Start ms</th>\n",
       "      <th>End</th>\n",
       "      <th>End ms</th>\n",
       "      <th>Dur. (ms)</th>\n",
       "      <th>IMSI</th>\n",
       "      <th>MSISDN/Number</th>\n",
       "      <th>IMEI</th>\n",
       "      <th>Last Location Name</th>\n",
       "      <th>...</th>\n",
       "      <th>Youtube DL (Bytes)</th>\n",
       "      <th>Youtube UL (Bytes)</th>\n",
       "      <th>Netflix DL (Bytes)</th>\n",
       "      <th>Netflix UL (Bytes)</th>\n",
       "      <th>Gaming DL (Bytes)</th>\n",
       "      <th>Gaming UL (Bytes)</th>\n",
       "      <th>Other DL (Bytes)</th>\n",
       "      <th>Other UL (Bytes)</th>\n",
       "      <th>Total UL (Bytes)</th>\n",
       "      <th>Total DL (Bytes)</th>\n",
       "    </tr>\n",
       "  </thead>\n",
       "  <tbody>\n",
       "    <tr>\n",
       "      <th>0</th>\n",
       "      <td>13,114,483,460,844,900,352.00</td>\n",
       "      <td>4/4/2019 12:01</td>\n",
       "      <td>770.00</td>\n",
       "      <td>4/25/2019 14:35</td>\n",
       "      <td>662.00</td>\n",
       "      <td>1,823,652.00</td>\n",
       "      <td>208,201,448,079,117.00</td>\n",
       "      <td>33,664,962,239.00</td>\n",
       "      <td>35,521,209,507,511.00</td>\n",
       "      <td>9.16456699548519E+015</td>\n",
       "      <td>...</td>\n",
       "      <td>15,854,611.00</td>\n",
       "      <td>2,501,332.00</td>\n",
       "      <td>8,198,936.00</td>\n",
       "      <td>9,656,251.00</td>\n",
       "      <td>278,082,303.00</td>\n",
       "      <td>14,344,150.00</td>\n",
       "      <td>171,744,450.00</td>\n",
       "      <td>8,814,393.00</td>\n",
       "      <td>36,749,741.00</td>\n",
       "      <td>308,879,636.00</td>\n",
       "    </tr>\n",
       "    <tr>\n",
       "      <th>1</th>\n",
       "      <td>13,114,483,482,878,900,224.00</td>\n",
       "      <td>4/9/2019 13:04</td>\n",
       "      <td>235.00</td>\n",
       "      <td>4/25/2019 8:15</td>\n",
       "      <td>606.00</td>\n",
       "      <td>1,365,104.00</td>\n",
       "      <td>208,201,909,211,140.00</td>\n",
       "      <td>33,681,854,413.00</td>\n",
       "      <td>35,794,009,006,359.00</td>\n",
       "      <td>L77566A</td>\n",
       "      <td>...</td>\n",
       "      <td>20,247,395.00</td>\n",
       "      <td>19,111,729.00</td>\n",
       "      <td>18,338,413.00</td>\n",
       "      <td>17,227,132.00</td>\n",
       "      <td>608,750,074.00</td>\n",
       "      <td>1,170,709.00</td>\n",
       "      <td>526,904,238.00</td>\n",
       "      <td>15,055,145.00</td>\n",
       "      <td>53,800,391.00</td>\n",
       "      <td>653,384,965.00</td>\n",
       "    </tr>\n",
       "    <tr>\n",
       "      <th>2</th>\n",
       "      <td>13,114,483,484,080,500,736.00</td>\n",
       "      <td>4/9/2019 17:42</td>\n",
       "      <td>1.00</td>\n",
       "      <td>4/25/2019 11:58</td>\n",
       "      <td>652.00</td>\n",
       "      <td>1,361,762.00</td>\n",
       "      <td>208,200,314,458,056.00</td>\n",
       "      <td>33,760,627,129.00</td>\n",
       "      <td>35,281,510,359,387.00</td>\n",
       "      <td>D42335A</td>\n",
       "      <td>...</td>\n",
       "      <td>19,725,661.00</td>\n",
       "      <td>14,699,576.00</td>\n",
       "      <td>17,587,794.00</td>\n",
       "      <td>6,163,408.00</td>\n",
       "      <td>229,584,621.00</td>\n",
       "      <td>395,630.00</td>\n",
       "      <td>410,692,588.00</td>\n",
       "      <td>4,215,763.00</td>\n",
       "      <td>27,883,638.00</td>\n",
       "      <td>279,807,335.00</td>\n",
       "    </tr>\n",
       "    <tr>\n",
       "      <th>3</th>\n",
       "      <td>13,114,483,485,442,799,616.00</td>\n",
       "      <td>4/10/2019 0:31</td>\n",
       "      <td>486.00</td>\n",
       "      <td>4/25/2019 7:36</td>\n",
       "      <td>171.00</td>\n",
       "      <td>1,321,509.00</td>\n",
       "      <td>208,201,402,342,131.00</td>\n",
       "      <td>33,750,343,200.00</td>\n",
       "      <td>35,356,610,164,913.00</td>\n",
       "      <td>T21824A</td>\n",
       "      <td>...</td>\n",
       "      <td>21,388,122.00</td>\n",
       "      <td>15,146,643.00</td>\n",
       "      <td>13,994,646.00</td>\n",
       "      <td>1,097,942.00</td>\n",
       "      <td>799,538,153.00</td>\n",
       "      <td>10,849,722.00</td>\n",
       "      <td>749,039,933.00</td>\n",
       "      <td>12,797,283.00</td>\n",
       "      <td>43,324,218.00</td>\n",
       "      <td>846,028,530.00</td>\n",
       "    </tr>\n",
       "    <tr>\n",
       "      <th>4</th>\n",
       "      <td>13,114,483,499,480,700,928.00</td>\n",
       "      <td>4/12/2019 20:10</td>\n",
       "      <td>565.00</td>\n",
       "      <td>4/25/2019 10:40</td>\n",
       "      <td>954.00</td>\n",
       "      <td>1,089,009.00</td>\n",
       "      <td>208,201,401,415,120.00</td>\n",
       "      <td>33,699,795,932.00</td>\n",
       "      <td>35,407,009,745,539.00</td>\n",
       "      <td>D88865A</td>\n",
       "      <td>...</td>\n",
       "      <td>15,259,380.00</td>\n",
       "      <td>18,962,873.00</td>\n",
       "      <td>17,124,581.00</td>\n",
       "      <td>415,218.00</td>\n",
       "      <td>527,707,248.00</td>\n",
       "      <td>3,529,801.00</td>\n",
       "      <td>550,709,500.00</td>\n",
       "      <td>13,910,322.00</td>\n",
       "      <td>38,542,814.00</td>\n",
       "      <td>569,138,589.00</td>\n",
       "    </tr>\n",
       "  </tbody>\n",
       "</table>\n",
       "<p>5 rows × 55 columns</p>\n",
       "</div>"
      ],
      "text/plain": [
       "                      Bearer Id            Start  Start ms              End  \\\n",
       "0 13,114,483,460,844,900,352.00   4/4/2019 12:01    770.00  4/25/2019 14:35   \n",
       "1 13,114,483,482,878,900,224.00   4/9/2019 13:04    235.00   4/25/2019 8:15   \n",
       "2 13,114,483,484,080,500,736.00   4/9/2019 17:42      1.00  4/25/2019 11:58   \n",
       "3 13,114,483,485,442,799,616.00   4/10/2019 0:31    486.00   4/25/2019 7:36   \n",
       "4 13,114,483,499,480,700,928.00  4/12/2019 20:10    565.00  4/25/2019 10:40   \n",
       "\n",
       "   End ms    Dur. (ms)                   IMSI     MSISDN/Number  \\\n",
       "0  662.00 1,823,652.00 208,201,448,079,117.00 33,664,962,239.00   \n",
       "1  606.00 1,365,104.00 208,201,909,211,140.00 33,681,854,413.00   \n",
       "2  652.00 1,361,762.00 208,200,314,458,056.00 33,760,627,129.00   \n",
       "3  171.00 1,321,509.00 208,201,402,342,131.00 33,750,343,200.00   \n",
       "4  954.00 1,089,009.00 208,201,401,415,120.00 33,699,795,932.00   \n",
       "\n",
       "                   IMEI     Last Location Name  ...  Youtube DL (Bytes)  \\\n",
       "0 35,521,209,507,511.00  9.16456699548519E+015  ...       15,854,611.00   \n",
       "1 35,794,009,006,359.00                L77566A  ...       20,247,395.00   \n",
       "2 35,281,510,359,387.00                D42335A  ...       19,725,661.00   \n",
       "3 35,356,610,164,913.00                T21824A  ...       21,388,122.00   \n",
       "4 35,407,009,745,539.00                D88865A  ...       15,259,380.00   \n",
       "\n",
       "   Youtube UL (Bytes)  Netflix DL (Bytes)  Netflix UL (Bytes)  \\\n",
       "0        2,501,332.00        8,198,936.00        9,656,251.00   \n",
       "1       19,111,729.00       18,338,413.00       17,227,132.00   \n",
       "2       14,699,576.00       17,587,794.00        6,163,408.00   \n",
       "3       15,146,643.00       13,994,646.00        1,097,942.00   \n",
       "4       18,962,873.00       17,124,581.00          415,218.00   \n",
       "\n",
       "   Gaming DL (Bytes)  Gaming UL (Bytes)  Other DL (Bytes)  Other UL (Bytes)  \\\n",
       "0     278,082,303.00      14,344,150.00    171,744,450.00      8,814,393.00   \n",
       "1     608,750,074.00       1,170,709.00    526,904,238.00     15,055,145.00   \n",
       "2     229,584,621.00         395,630.00    410,692,588.00      4,215,763.00   \n",
       "3     799,538,153.00      10,849,722.00    749,039,933.00     12,797,283.00   \n",
       "4     527,707,248.00       3,529,801.00    550,709,500.00     13,910,322.00   \n",
       "\n",
       "   Total UL (Bytes)  Total DL (Bytes)  \n",
       "0     36,749,741.00    308,879,636.00  \n",
       "1     53,800,391.00    653,384,965.00  \n",
       "2     27,883,638.00    279,807,335.00  \n",
       "3     43,324,218.00    846,028,530.00  \n",
       "4     38,542,814.00    569,138,589.00  \n",
       "\n",
       "[5 rows x 55 columns]"
      ]
     },
     "execution_count": 154,
     "metadata": {},
     "output_type": "execute_result"
    }
   ],
   "source": [
    "db = pd.read_csv('../10ac_week1/data.csv', na_values=['?', None])\n",
    "db.head()"
   ]
  },
  {
   "cell_type": "code",
   "execution_count": 155,
   "id": "u7uanivOgrmv",
   "metadata": {
    "colab": {
     "base_uri": "https://localhost:8080/"
    },
    "executionInfo": {
     "elapsed": 1481,
     "status": "ok",
     "timestamp": 1626169540813,
     "user": {
      "displayName": "Kevin Karobia",
      "photoUrl": "",
      "userId": "11620910033834049837"
     },
     "user_tz": -180
    },
    "id": "u7uanivOgrmv",
    "outputId": "9c618855-c1eb-4e25-d276-7b557d33465b",
    "scrolled": true
   },
   "outputs": [
    {
     "data": {
      "text/plain": [
       "['Bearer Id',\n",
       " 'Start',\n",
       " 'Start ms',\n",
       " 'End',\n",
       " 'End ms',\n",
       " 'Dur. (ms)',\n",
       " 'IMSI',\n",
       " 'MSISDN/Number',\n",
       " 'IMEI',\n",
       " 'Last Location Name',\n",
       " 'Avg RTT DL (ms)',\n",
       " 'Avg RTT UL (ms)',\n",
       " 'Avg Bearer TP DL (kbps)',\n",
       " 'Avg Bearer TP UL (kbps)',\n",
       " 'TCP DL Retrans. Vol (Bytes)',\n",
       " 'TCP UL Retrans. Vol (Bytes)',\n",
       " 'DL TP < 50 Kbps (%)',\n",
       " '50 Kbps < DL TP < 250 Kbps (%)',\n",
       " '250 Kbps < DL TP < 1 Mbps (%)',\n",
       " 'DL TP > 1 Mbps (%)',\n",
       " 'UL TP < 10 Kbps (%)',\n",
       " '10 Kbps < UL TP < 50 Kbps (%)',\n",
       " '50 Kbps < UL TP < 300 Kbps (%)',\n",
       " 'UL TP > 300 Kbps (%)',\n",
       " 'HTTP DL (Bytes)',\n",
       " 'HTTP UL (Bytes)',\n",
       " 'Activity Duration DL (ms)',\n",
       " 'Activity Duration UL (ms)',\n",
       " 'Dur. (ms).1',\n",
       " 'Handset Manufacturer',\n",
       " 'Handset Type',\n",
       " 'Nb of sec with 125000B < Vol DL',\n",
       " 'Nb of sec with 1250B < Vol UL < 6250B',\n",
       " 'Nb of sec with 31250B < Vol DL < 125000B',\n",
       " 'Nb of sec with 37500B < Vol UL',\n",
       " 'Nb of sec with 6250B < Vol DL < 31250B',\n",
       " 'Nb of sec with 6250B < Vol UL < 37500B',\n",
       " 'Nb of sec with Vol DL < 6250B',\n",
       " 'Nb of sec with Vol UL < 1250B',\n",
       " 'Social Media DL (Bytes)',\n",
       " 'Social Media UL (Bytes)',\n",
       " 'Google DL (Bytes)',\n",
       " 'Google UL (Bytes)',\n",
       " 'Email DL (Bytes)',\n",
       " 'Email UL (Bytes)',\n",
       " 'Youtube DL (Bytes)',\n",
       " 'Youtube UL (Bytes)',\n",
       " 'Netflix DL (Bytes)',\n",
       " 'Netflix UL (Bytes)',\n",
       " 'Gaming DL (Bytes)',\n",
       " 'Gaming UL (Bytes)',\n",
       " 'Other DL (Bytes)',\n",
       " 'Other UL (Bytes)',\n",
       " 'Total UL (Bytes)',\n",
       " 'Total DL (Bytes)']"
      ]
     },
     "execution_count": 155,
     "metadata": {},
     "output_type": "execute_result"
    }
   ],
   "source": [
    "# column names\n",
    "db.columns.tolist()"
   ]
  },
  {
   "cell_type": "code",
   "execution_count": 156,
   "id": "ee45d041",
   "metadata": {
    "executionInfo": {
     "elapsed": 536,
     "status": "ok",
     "timestamp": 1626169586067,
     "user": {
      "displayName": "Kevin Karobia",
      "photoUrl": "",
      "userId": "11620910033834049837"
     },
     "user_tz": -180
    },
    "id": "ee45d041"
   },
   "outputs": [],
   "source": [
    "import pandas as pd\n",
    "import numpy as np\n",
    "import seaborn as sns\n",
    "import matplotlib.pyplot as plt"
   ]
  },
  {
   "cell_type": "markdown",
   "id": "4428adf1",
   "metadata": {
    "id": "4428adf1"
   },
   "source": [
    "Before Cleaning a dataset, you need to explore what has been stored in it. The column names, how many data points,\n",
    "number of colum etc. All these questions needs to be answered"
   ]
  },
  {
   "cell_type": "markdown",
   "id": "9ee8e8f3",
   "metadata": {
    "id": "9ee8e8f3"
   },
   "source": [
    "For better understanding of the columns, Exploring the data description [here](https://docs.google.com/spreadsheets/d/1pcNqeUeIph6xAQzlI54KCvi8HM91SUNeeDbdOq3rvbE/edit#gid=784155610) will help"
   ]
  },
  {
   "cell_type": "markdown",
   "id": "2f58547a",
   "metadata": {
    "id": "2f58547a"
   },
   "source": [
    "## Handling Missing Values"
   ]
  },
  {
   "cell_type": "code",
   "execution_count": 157,
   "id": "67977677",
   "metadata": {
    "colab": {
     "base_uri": "https://localhost:8080/"
    },
    "executionInfo": {
     "elapsed": 25,
     "status": "ok",
     "timestamp": 1626169593507,
     "user": {
      "displayName": "Kevin Karobia",
      "photoUrl": "",
      "userId": "11620910033834049837"
     },
     "user_tz": -180
    },
    "id": "67977677",
    "outputId": "8e9d562f-04d4-48a7-bcd0-97f742c5922a"
   },
   "outputs": [
    {
     "name": "stdout",
     "output_type": "stream",
     "text": [
      "The telecom data dataset contains 12.5 % missing values.\n"
     ]
    }
   ],
   "source": [
    "# how many missing values exist or better still what is the % of missing values in the dataset?\n",
    "def percent_missing(df):\n",
    "\n",
    "    # Calculate total number of cells in dataframe\n",
    "    totalCells = np.product(df.shape)\n",
    "\n",
    "    # Count number of missing values per column\n",
    "    missingCount = df.isnull().sum()\n",
    "\n",
    "    # Calculate total number of missing values\n",
    "    totalMissing = missingCount.sum()\n",
    "\n",
    "    # Calculate percentage of missing values\n",
    "    print(\"The telecom data dataset contains\", round(((totalMissing/totalCells) * 100), 2), \"%\", \"missing values.\")\n",
    "\n",
    "percent_missing(db)"
   ]
  },
  {
   "cell_type": "code",
   "execution_count": 158,
   "id": "33dae472",
   "metadata": {
    "colab": {
     "base_uri": "https://localhost:8080/"
    },
    "executionInfo": {
     "elapsed": 12,
     "status": "ok",
     "timestamp": 1626169593901,
     "user": {
      "displayName": "Kevin Karobia",
      "photoUrl": "",
      "userId": "11620910033834049837"
     },
     "user_tz": -180
    },
    "id": "33dae472",
    "outputId": "3dd5dfb5-77f5-4a3a-945a-72f034180199",
    "scrolled": true
   },
   "outputs": [
    {
     "data": {
      "text/plain": [
       "Bearer Id                                      991\n",
       "Start                                            1\n",
       "Start ms                                         1\n",
       "End                                              1\n",
       "End ms                                           1\n",
       "Dur. (ms)                                        1\n",
       "IMSI                                           570\n",
       "MSISDN/Number                                 1066\n",
       "IMEI                                           572\n",
       "Last Location Name                            1153\n",
       "Avg RTT DL (ms)                              27829\n",
       "Avg RTT UL (ms)                              27812\n",
       "Avg Bearer TP DL (kbps)                          1\n",
       "Avg Bearer TP UL (kbps)                          1\n",
       "TCP DL Retrans. Vol (Bytes)                  88146\n",
       "TCP UL Retrans. Vol (Bytes)                  96649\n",
       "DL TP < 50 Kbps (%)                            754\n",
       "50 Kbps < DL TP < 250 Kbps (%)                 754\n",
       "250 Kbps < DL TP < 1 Mbps (%)                  754\n",
       "DL TP > 1 Mbps (%)                             754\n",
       "UL TP < 10 Kbps (%)                            792\n",
       "10 Kbps < UL TP < 50 Kbps (%)                  792\n",
       "50 Kbps < UL TP < 300 Kbps (%)                 792\n",
       "UL TP > 300 Kbps (%)                           792\n",
       "HTTP DL (Bytes)                              81474\n",
       "HTTP UL (Bytes)                              81810\n",
       "Activity Duration DL (ms)                        1\n",
       "Activity Duration UL (ms)                        1\n",
       "Dur. (ms).1                                      1\n",
       "Handset Manufacturer                           572\n",
       "Handset Type                                   572\n",
       "Nb of sec with 125000B < Vol DL              97538\n",
       "Nb of sec with 1250B < Vol UL < 6250B        92894\n",
       "Nb of sec with 31250B < Vol DL < 125000B     93586\n",
       "Nb of sec with 37500B < Vol UL              130254\n",
       "Nb of sec with 6250B < Vol DL < 31250B       88317\n",
       "Nb of sec with 6250B < Vol UL < 37500B      111843\n",
       "Nb of sec with Vol DL < 6250B                  755\n",
       "Nb of sec with Vol UL < 1250B                  793\n",
       "Social Media DL (Bytes)                          0\n",
       "Social Media UL (Bytes)                          0\n",
       "Google DL (Bytes)                                0\n",
       "Google UL (Bytes)                                0\n",
       "Email DL (Bytes)                                 0\n",
       "Email UL (Bytes)                                 0\n",
       "Youtube DL (Bytes)                               0\n",
       "Youtube UL (Bytes)                               0\n",
       "Netflix DL (Bytes)                               0\n",
       "Netflix UL (Bytes)                               0\n",
       "Gaming DL (Bytes)                                0\n",
       "Gaming UL (Bytes)                                0\n",
       "Other DL (Bytes)                                 0\n",
       "Other UL (Bytes)                                 0\n",
       "Total UL (Bytes)                                 1\n",
       "Total DL (Bytes)                                 1\n",
       "dtype: int64"
      ]
     },
     "execution_count": 158,
     "metadata": {},
     "output_type": "execute_result"
    }
   ],
   "source": [
    "# Now which column(s) has missing values\n",
    "db.isna().sum()"
   ]
  },
  {
   "cell_type": "markdown",
   "id": "82322398",
   "metadata": {
    "id": "82322398"
   },
   "source": [
    "Well, Looks like some columns has alot of missing values.\n",
    "\n",
    "Up Next How to fix missing values"
   ]
  },
  {
   "cell_type": "markdown",
   "id": "c83faeff",
   "metadata": {
    "id": "c83faeff"
   },
   "source": [
    "Fixing Missing values is a crucial part of any data science/ML project because you might be making the data better by your method or otherwise. So your decision has to be perfect or close enough.\n",
    "\n",
    "The rule of thumb is for all object datatype kind of column/features use the mode method to fill the missing datapoints and for number kind of features use the mean/median method.\n",
    "\n",
    "The question now is how to choose which method to fill a number feature with. Well the simple answer is check if it is skewed. Now what is skew?\n",
    "\n",
    "Back to the rule of thumb, if the data is not skewed, filling with either mean or median will work well. But if it is indeed skew, then fill with Median. The idea is ...."
   ]
  },
  {
   "cell_type": "markdown",
   "id": "d8d4d436",
   "metadata": {
    "id": "d8d4d436"
   },
   "source": [
    "Other method of dealing with missing values exists like fill-forward,backward-fill etc"
   ]
  },
  {
   "cell_type": "markdown",
   "id": "280fa475",
   "metadata": {
    "id": "280fa475"
   },
   "source": [
    "You also need to consider what the column represent before you fill missing values for example:  ...\n",
    "\n",
    "Another easy way to do this is to just drop all misisng rows and moving on with analysis if you have data left atleast."
   ]
  },
  {
   "cell_type": "code",
   "execution_count": 159,
   "id": "eab39234",
   "metadata": {},
   "outputs": [
    {
     "name": "stdout",
     "output_type": "stream",
     "text": [
      "                                                                       column_name  \\\n",
      "Youtube DL (Bytes)                                              Youtube DL (Bytes)   \n",
      "Other UL (Bytes)                                                  Other UL (Bytes)   \n",
      "Other DL (Bytes)                                                  Other DL (Bytes)   \n",
      "Gaming UL (Bytes)                                                Gaming UL (Bytes)   \n",
      "Gaming DL (Bytes)                                                Gaming DL (Bytes)   \n",
      "Netflix UL (Bytes)                                              Netflix UL (Bytes)   \n",
      "Netflix DL (Bytes)                                              Netflix DL (Bytes)   \n",
      "Youtube UL (Bytes)                                              Youtube UL (Bytes)   \n",
      "Email UL (Bytes)                                                  Email UL (Bytes)   \n",
      "Email DL (Bytes)                                                  Email DL (Bytes)   \n",
      "Google UL (Bytes)                                                Google UL (Bytes)   \n",
      "Google DL (Bytes)                                                Google DL (Bytes)   \n",
      "Social Media UL (Bytes)                                    Social Media UL (Bytes)   \n",
      "Social Media DL (Bytes)                                    Social Media DL (Bytes)   \n",
      "Dur. (ms).1                                                            Dur. (ms).1   \n",
      "Activity Duration UL (ms)                                Activity Duration UL (ms)   \n",
      "Total UL (Bytes)                                                  Total UL (Bytes)   \n",
      "Activity Duration DL (ms)                                Activity Duration DL (ms)   \n",
      "Total DL (Bytes)                                                  Total DL (Bytes)   \n",
      "Avg Bearer TP UL (kbps)                                    Avg Bearer TP UL (kbps)   \n",
      "Avg Bearer TP DL (kbps)                                    Avg Bearer TP DL (kbps)   \n",
      "Dur. (ms)                                                                Dur. (ms)   \n",
      "Start                                                                        Start   \n",
      "Start ms                                                                  Start ms   \n",
      "End ms                                                                      End ms   \n",
      "End                                                                            End   \n",
      "IMSI                                                                          IMSI   \n",
      "IMEI                                                                          IMEI   \n",
      "Handset Type                                                          Handset Type   \n",
      "Handset Manufacturer                                          Handset Manufacturer   \n",
      "DL TP < 50 Kbps (%)                                            DL TP < 50 Kbps (%)   \n",
      "50 Kbps < DL TP < 250 Kbps (%)                      50 Kbps < DL TP < 250 Kbps (%)   \n",
      "250 Kbps < DL TP < 1 Mbps (%)                        250 Kbps < DL TP < 1 Mbps (%)   \n",
      "DL TP > 1 Mbps (%)                                              DL TP > 1 Mbps (%)   \n",
      "Nb of sec with Vol DL < 6250B                        Nb of sec with Vol DL < 6250B   \n",
      "UL TP > 300 Kbps (%)                                          UL TP > 300 Kbps (%)   \n",
      "50 Kbps < UL TP < 300 Kbps (%)                      50 Kbps < UL TP < 300 Kbps (%)   \n",
      "10 Kbps < UL TP < 50 Kbps (%)                        10 Kbps < UL TP < 50 Kbps (%)   \n",
      "UL TP < 10 Kbps (%)                                            UL TP < 10 Kbps (%)   \n",
      "Nb of sec with Vol UL < 1250B                        Nb of sec with Vol UL < 1250B   \n",
      "Bearer Id                                                                Bearer Id   \n",
      "MSISDN/Number                                                        MSISDN/Number   \n",
      "Last Location Name                                              Last Location Name   \n",
      "Avg RTT UL (ms)                                                    Avg RTT UL (ms)   \n",
      "Avg RTT DL (ms)                                                    Avg RTT DL (ms)   \n",
      "HTTP DL (Bytes)                                                    HTTP DL (Bytes)   \n",
      "HTTP UL (Bytes)                                                    HTTP UL (Bytes)   \n",
      "TCP DL Retrans. Vol (Bytes)                            TCP DL Retrans. Vol (Bytes)   \n",
      "Nb of sec with 6250B < Vol DL < 31250B      Nb of sec with 6250B < Vol DL < 31250B   \n",
      "Nb of sec with 1250B < Vol UL < 6250B        Nb of sec with 1250B < Vol UL < 6250B   \n",
      "Nb of sec with 31250B < Vol DL < 125000B  Nb of sec with 31250B < Vol DL < 125000B   \n",
      "TCP UL Retrans. Vol (Bytes)                            TCP UL Retrans. Vol (Bytes)   \n",
      "Nb of sec with 125000B < Vol DL                    Nb of sec with 125000B < Vol DL   \n",
      "Nb of sec with 6250B < Vol UL < 37500B      Nb of sec with 6250B < Vol UL < 37500B   \n",
      "Nb of sec with 37500B < Vol UL                      Nb of sec with 37500B < Vol UL   \n",
      "\n",
      "                                          percent_missing  \n",
      "Youtube DL (Bytes)                                   0.00  \n",
      "Other UL (Bytes)                                     0.00  \n",
      "Other DL (Bytes)                                     0.00  \n",
      "Gaming UL (Bytes)                                    0.00  \n",
      "Gaming DL (Bytes)                                    0.00  \n",
      "Netflix UL (Bytes)                                   0.00  \n",
      "Netflix DL (Bytes)                                   0.00  \n",
      "Youtube UL (Bytes)                                   0.00  \n",
      "Email UL (Bytes)                                     0.00  \n",
      "Email DL (Bytes)                                     0.00  \n",
      "Google UL (Bytes)                                    0.00  \n",
      "Google DL (Bytes)                                    0.00  \n",
      "Social Media UL (Bytes)                              0.00  \n",
      "Social Media DL (Bytes)                              0.00  \n",
      "Dur. (ms).1                                          0.00  \n",
      "Activity Duration UL (ms)                            0.00  \n",
      "Total UL (Bytes)                                     0.00  \n",
      "Activity Duration DL (ms)                            0.00  \n",
      "Total DL (Bytes)                                     0.00  \n",
      "Avg Bearer TP UL (kbps)                              0.00  \n",
      "Avg Bearer TP DL (kbps)                              0.00  \n",
      "Dur. (ms)                                            0.00  \n",
      "Start                                                0.00  \n",
      "Start ms                                             0.00  \n",
      "End ms                                               0.00  \n",
      "End                                                  0.00  \n",
      "IMSI                                                 0.38  \n",
      "IMEI                                                 0.38  \n",
      "Handset Type                                         0.38  \n",
      "Handset Manufacturer                                 0.38  \n",
      "DL TP < 50 Kbps (%)                                  0.50  \n",
      "50 Kbps < DL TP < 250 Kbps (%)                       0.50  \n",
      "250 Kbps < DL TP < 1 Mbps (%)                        0.50  \n",
      "DL TP > 1 Mbps (%)                                   0.50  \n",
      "Nb of sec with Vol DL < 6250B                        0.50  \n",
      "UL TP > 300 Kbps (%)                                 0.53  \n",
      "50 Kbps < UL TP < 300 Kbps (%)                       0.53  \n",
      "10 Kbps < UL TP < 50 Kbps (%)                        0.53  \n",
      "UL TP < 10 Kbps (%)                                  0.53  \n",
      "Nb of sec with Vol UL < 1250B                        0.53  \n",
      "Bearer Id                                            0.66  \n",
      "MSISDN/Number                                        0.71  \n",
      "Last Location Name                                   0.77  \n",
      "Avg RTT UL (ms)                                     18.54  \n",
      "Avg RTT DL (ms)                                     18.55  \n",
      "HTTP DL (Bytes)                                     54.32  \n",
      "HTTP UL (Bytes)                                     54.54  \n",
      "TCP DL Retrans. Vol (Bytes)                         58.76  \n",
      "Nb of sec with 6250B < Vol DL < 31250B              58.88  \n",
      "Nb of sec with 1250B < Vol UL < 6250B               61.93  \n",
      "Nb of sec with 31250B < Vol DL < 125000B            62.39  \n",
      "TCP UL Retrans. Vol (Bytes)                         64.43  \n",
      "Nb of sec with 125000B < Vol DL                     65.02  \n",
      "Nb of sec with 6250B < Vol UL < 37500B              74.56  \n",
      "Nb of sec with 37500B < Vol UL                      86.84  \n"
     ]
    }
   ],
   "source": [
    "# To see the percentage of missing values of every columns\n",
    "def every_column_percent_missing(df):\n",
    "    percent_missing = df.isnull().sum() * 100 / len(df)\n",
    "    missing_value_db = pd.DataFrame({'column_name': df.columns,\n",
    "                                     'percent_missing': percent_missing})\n",
    "\n",
    "    missing_value_db.sort_values('percent_missing', inplace=True)\n",
    "\n",
    "    print(missing_value_db)\n",
    "\n",
    "\n",
    "every_column_percent_missing(db)"
   ]
  },
  {
   "cell_type": "code",
   "execution_count": 160,
   "id": "6711f019",
   "metadata": {
    "colab": {
     "base_uri": "https://localhost:8080/"
    },
    "executionInfo": {
     "elapsed": 13,
     "status": "ok",
     "timestamp": 1626169597395,
     "user": {
      "displayName": "Kevin Karobia",
      "photoUrl": "",
      "userId": "11620910033834049837"
     },
     "user_tz": -180
    },
    "id": "6711f019",
    "outputId": "e4819797-f7c6-47b0-a7eb-74481d05f6bb"
   },
   "outputs": [
    {
     "data": {
      "text/plain": [
       "(150001, 45)"
      ]
     },
     "execution_count": 160,
     "metadata": {},
     "output_type": "execute_result"
    }
   ],
   "source": [
    "# drop columns with more than 30% missing values\n",
    "df_clean = db.drop(\n",
    "['Nb of sec with 125000B < Vol DL', 'Nb of sec with 1250B < Vol UL < 6250B', 'Nb of sec with 31250B < Vol DL < 125000B', 'Nb of sec with 37500B < Vol UL', 'Nb of sec with 6250B < Vol DL < 31250B', 'Nb of sec with 6250B < Vol UL < 37500B', 'HTTP DL (Bytes)', 'HTTP UL (Bytes)', 'TCP DL Retrans. Vol (Bytes)', 'TCP UL Retrans. Vol (Bytes)' ], axis=1)\n",
    "df_clean.shape"
   ]
  },
  {
   "cell_type": "code",
   "execution_count": 161,
   "id": "14e10adc",
   "metadata": {},
   "outputs": [
    {
     "data": {
      "text/plain": [
       "Bearer Id                           991\n",
       "Start                                 1\n",
       "Start ms                              1\n",
       "End                                   1\n",
       "End ms                                1\n",
       "Dur. (ms)                             1\n",
       "IMSI                                570\n",
       "MSISDN/Number                      1066\n",
       "IMEI                                572\n",
       "Last Location Name                 1153\n",
       "Avg RTT DL (ms)                   27829\n",
       "Avg RTT UL (ms)                   27812\n",
       "Avg Bearer TP DL (kbps)               1\n",
       "Avg Bearer TP UL (kbps)               1\n",
       "DL TP < 50 Kbps (%)                 754\n",
       "50 Kbps < DL TP < 250 Kbps (%)      754\n",
       "250 Kbps < DL TP < 1 Mbps (%)       754\n",
       "DL TP > 1 Mbps (%)                  754\n",
       "UL TP < 10 Kbps (%)                 792\n",
       "10 Kbps < UL TP < 50 Kbps (%)       792\n",
       "50 Kbps < UL TP < 300 Kbps (%)      792\n",
       "UL TP > 300 Kbps (%)                792\n",
       "Activity Duration DL (ms)             1\n",
       "Activity Duration UL (ms)             1\n",
       "Dur. (ms).1                           1\n",
       "Handset Manufacturer                572\n",
       "Handset Type                        572\n",
       "Nb of sec with Vol DL < 6250B       755\n",
       "Nb of sec with Vol UL < 1250B       793\n",
       "Social Media DL (Bytes)               0\n",
       "Social Media UL (Bytes)               0\n",
       "Google DL (Bytes)                     0\n",
       "Google UL (Bytes)                     0\n",
       "Email DL (Bytes)                      0\n",
       "Email UL (Bytes)                      0\n",
       "Youtube DL (Bytes)                    0\n",
       "Youtube UL (Bytes)                    0\n",
       "Netflix DL (Bytes)                    0\n",
       "Netflix UL (Bytes)                    0\n",
       "Gaming DL (Bytes)                     0\n",
       "Gaming UL (Bytes)                     0\n",
       "Other DL (Bytes)                      0\n",
       "Other UL (Bytes)                      0\n",
       "Total UL (Bytes)                      1\n",
       "Total DL (Bytes)                      1\n",
       "dtype: int64"
      ]
     },
     "execution_count": 161,
     "metadata": {},
     "output_type": "execute_result"
    }
   ],
   "source": [
    "df_clean.isna().sum()"
   ]
  },
  {
   "cell_type": "code",
   "execution_count": 162,
   "id": "07100332",
   "metadata": {},
   "outputs": [
    {
     "name": "stdout",
     "output_type": "stream",
     "text": [
      "The telecom data dataset contains 1.02 % missing values.\n"
     ]
    }
   ],
   "source": [
    "\n",
    "percent_missing(df_clean)"
   ]
  },
  {
   "cell_type": "code",
   "execution_count": 163,
   "id": "85f2e55b",
   "metadata": {
    "executionInfo": {
     "elapsed": 633,
     "status": "ok",
     "timestamp": 1626169599755,
     "user": {
      "displayName": "Kevin Karobia",
      "photoUrl": "",
      "userId": "11620910033834049837"
     },
     "user_tz": -180
    },
    "id": "85f2e55b"
   },
   "outputs": [],
   "source": [
    "#df_clean['# fill missing with ffill method for columns ()\n",
    "\n",
    "def fix_missing_ffill(df, col):\n",
    "    df[col] = df[col].fillna(method='ffill')\n",
    "    return df[col]\n",
    "\n",
    "\n",
    "def fix_missing_bfill(df, col):\n",
    "    df[col] = df[col].fillna(method='bfill')\n",
    "    return df[col]\n",
    "\n",
    "df_clean['Dur. (ms).1'] = fix_missing_ffill(df_clean, 'Dur. (ms).1')\n",
    "df_clean['Activity Duration DL (ms)'] = fix_missing_ffill(df_clean, 'Activity Duration DL (ms)')\n",
    "df_clean['Activity Duration UL (ms)'] = fix_missing_ffill(df_clean, 'Activity Duration UL (ms)')\n",
    "df_clean['Total UL (Bytes)'] = fix_missing_ffill(df_clean, 'Total UL (Bytes)')\n",
    "df_clean['Total DL (Bytes)'] = fix_missing_ffill(df_clean, 'Total DL (Bytes)')\n",
    "df_clean['Avg Bearer TP DL (kbps)'] = fix_missing_ffill(df_clean, 'Avg Bearer TP DL (kbps)')\n",
    "df_clean['Start'] = fix_missing_ffill(df_clean, 'Start')\n",
    "df_clean['Start ms'] = fix_missing_ffill(df_clean, 'Start ms')\n",
    "df_clean['End'] = fix_missing_ffill(df_clean, 'End')\n",
    "df_clean['Avg Bearer TP UL (kbps)'] = fix_missing_ffill(df_clean, 'Avg Bearer TP UL (kbps)')\n",
    "df_clean['End ms'] = fix_missing_ffill(df_clean, 'End ms')\n",
    "df_clean['Dur. (ms)'] = fix_missing_ffill(df_clean, 'Dur. (ms)')\n",
    "df_clean['IMSI'] = fix_missing_ffill(df_clean, 'IMSI')\n",
    "df_clean['DL TP > 1 Mbps (%)'] = fix_missing_ffill(df_clean, 'DL TP > 1 Mbps (%)')\n",
    "df_clean['250 Kbps < DL TP < 1 Mbps (%)'] = fix_missing_ffill(df_clean, '250 Kbps < DL TP < 1 Mbps (%)')\n",
    "df_clean['50 Kbps < DL TP < 250 Kbps (%)'] = fix_missing_ffill(df_clean, '50 Kbps < DL TP < 250 Kbps (%)')\n",
    "df_clean['DL TP < 50 Kbps (%)'] = fix_missing_ffill(df_clean, 'DL TP < 50 Kbps (%)')\n",
    "df_clean['Nb of sec with Vol DL < 6250B'] = fix_missing_ffill(df_clean, 'Nb of sec with Vol DL < 6250B')\n",
    "df_clean['10 Kbps < UL TP < 50 Kbps (%)'] = fix_missing_ffill(df_clean, '10 Kbps < UL TP < 50 Kbps (%)')\n",
    "df_clean['UL TP < 10 Kbps (%)'] = fix_missing_ffill(df_clean, 'UL TP < 10 Kbps (%)')\n",
    "df_clean['UL TP > 300 Kbps (%)'] = fix_missing_ffill(df_clean, 'UL TP > 300 Kbps (%)')\n",
    "df_clean['50 Kbps < UL TP < 300 Kbps (%)'] = fix_missing_ffill(df_clean, '50 Kbps < UL TP < 300 Kbps (%)')\n",
    "df_clean['Nb of sec with Vol UL < 1250B'] = fix_missing_ffill(df_clean, 'Nb of sec with Vol UL < 1250B')\n",
    "df_clean['Bearer Id'] = fix_missing_ffill(df_clean, 'Bearer Id')\n",
    "df_clean['Last Location Name'] = fix_missing_ffill(df_clean, 'Last Location Name')\n",
    "\n",
    "# fill 'Handset Type, Handset Manufacturer, IMEI & MSISDN/Number' column with mode \n",
    "df_clean['Handset Manufacturer'] = df_clean['Handset Manufacturer'].fillna(df_clean['Handset Manufacturer'].mode()[0])\n",
    "df_clean['Handset Type'] = df_clean['Handset Type'].fillna(df_clean['Handset Type'].mode()[0])\n",
    "df_clean['IMEI'] = df_clean['IMEI'].fillna(df_clean['IMEI'].mode()[0])\n",
    "df_clean['MSISDN/Number'] = df_clean['MSISDN/Number'].fillna(df_clean['MSISDN/Number'].mode()[0])"
   ]
  },
  {
   "cell_type": "markdown",
   "id": "202923f1",
   "metadata": {
    "id": "202923f1"
   },
   "source": [
    "Other missing columns can be fixed based on your understanding, you can decide to drop or fill using appropriate methods. Whichever you decide, explain your reasons  "
   ]
  },
  {
   "cell_type": "markdown",
   "id": "2f92e917",
   "metadata": {
    "id": "2f92e917"
   },
   "source": [
    "## Transforming Data\n",
    "\n",
    "**Scaling and Normalization**"
   ]
  },
  {
   "cell_type": "markdown",
   "id": "31af9f33",
   "metadata": {
    "id": "31af9f33"
   },
   "source": [
    "Scaling vs. Normalization: What's the difference?\n",
    "\n",
    "One of the reasons that it's easy to get confused between scaling and normalization is because the terms are sometimes used interchangeably and, to make it even more confusing, they are very similar! In both cases, you're transforming the values of numeric variables so that the transformed data points have specific helpful properties. The difference is that:\n",
    "\n",
    "    - in scaling, you're changing the range of your data, while\n",
    "    - in normalization, you're changing the shape of the distribution of your data.\n",
    "\n",
    "Scaling\n",
    "\n",
    "This means that you're transforming your data so that it fits within a specific scale, like 0-100 or 0-1. You want to scale data when you're using methods based on measures of how far apart data points are, like support vector machines (SVM) or k-nearest neighbors (KNN). With these algorithms, a change of \"1\" in any numeric feature is given the same importance.\n",
    "\n",
    "For example, you might be looking at the prices of some products in both Yen and US Dollars. One US Dollar is worth about 100 Yen, but if you don't scale your prices, methods like SVM or KNN will consider a difference in price of 1 Yen as important as a difference of 1 US Dollar! This clearly doesn't fit with our intuitions of the world. With currency, you can convert between currencies. But what about if you're looking at something like height and weight? It's not entirely clear how many pounds should equal one inch (or how many kilograms should equal one meter).\n",
    "\n",
    "\n"
   ]
  },
  {
   "cell_type": "code",
   "execution_count": 164,
   "id": "4db69c6f",
   "metadata": {
    "colab": {
     "base_uri": "https://localhost:8080/",
     "height": 206
    },
    "executionInfo": {
     "elapsed": 33,
     "status": "ok",
     "timestamp": 1626169602345,
     "user": {
      "displayName": "Kevin Karobia",
      "photoUrl": "",
      "userId": "11620910033834049837"
     },
     "user_tz": -180
    },
    "id": "4db69c6f",
    "outputId": "492c9061-e9b3-49ee-8499-23259cd863e6"
   },
   "outputs": [
    {
     "data": {
      "text/html": [
       "<div>\n",
       "<style scoped>\n",
       "    .dataframe tbody tr th:only-of-type {\n",
       "        vertical-align: middle;\n",
       "    }\n",
       "\n",
       "    .dataframe tbody tr th {\n",
       "        vertical-align: top;\n",
       "    }\n",
       "\n",
       "    .dataframe thead th {\n",
       "        text-align: right;\n",
       "    }\n",
       "</style>\n",
       "<table border=\"1\" class=\"dataframe\">\n",
       "  <thead>\n",
       "    <tr style=\"text-align: right;\">\n",
       "      <th></th>\n",
       "      <th>0</th>\n",
       "    </tr>\n",
       "  </thead>\n",
       "  <tbody>\n",
       "    <tr>\n",
       "      <th>70</th>\n",
       "      <td>5.15</td>\n",
       "    </tr>\n",
       "    <tr>\n",
       "      <th>193</th>\n",
       "      <td>46.76</td>\n",
       "    </tr>\n",
       "    <tr>\n",
       "      <th>95</th>\n",
       "      <td>44.33</td>\n",
       "    </tr>\n",
       "    <tr>\n",
       "      <th>756</th>\n",
       "      <td>145.53</td>\n",
       "    </tr>\n",
       "    <tr>\n",
       "      <th>1352</th>\n",
       "      <td>19.08</td>\n",
       "    </tr>\n",
       "  </tbody>\n",
       "</table>\n",
       "</div>"
      ],
      "text/plain": [
       "          0\n",
       "70     5.15\n",
       "193   46.76\n",
       "95    44.33\n",
       "756  145.53\n",
       "1352  19.08"
      ]
     },
     "execution_count": 164,
     "metadata": {},
     "output_type": "execute_result"
    }
   ],
   "source": [
    "from sklearn.preprocessing import MinMaxScaler\n",
    "\n",
    "minmax_scaler = MinMaxScaler()\n",
    "\n",
    "# generate 1000 data points randomly drawn from an exponential distribution\n",
    "original_data = pd.DataFrame(np.random.exponential(200, size=2000))\n",
    "\n",
    "original_data.sample(5)"
   ]
  },
  {
   "cell_type": "code",
   "execution_count": 165,
   "id": "887126c7",
   "metadata": {
    "colab": {
     "base_uri": "https://localhost:8080/"
    },
    "executionInfo": {
     "elapsed": 31,
     "status": "ok",
     "timestamp": 1626169602347,
     "user": {
      "displayName": "Kevin Karobia",
      "photoUrl": "",
      "userId": "11620910033834049837"
     },
     "user_tz": -180
    },
    "id": "887126c7",
    "outputId": "2b065ca4-2508-47b7-a915-dafdb4f0a385"
   },
   "outputs": [
    {
     "data": {
      "text/plain": [
       "(0.14641093080797243, 2270.783988394508)"
      ]
     },
     "execution_count": 165,
     "metadata": {},
     "output_type": "execute_result"
    }
   ],
   "source": [
    "original_data[0].min(), original_data[0].max()"
   ]
  },
  {
   "cell_type": "code",
   "execution_count": 166,
   "id": "2c7ac099",
   "metadata": {
    "colab": {
     "base_uri": "https://localhost:8080/",
     "height": 265
    },
    "executionInfo": {
     "elapsed": 47646,
     "status": "ok",
     "timestamp": 1626169651337,
     "user": {
      "displayName": "Kevin Karobia",
      "photoUrl": "",
      "userId": "11620910033834049837"
     },
     "user_tz": -180
    },
    "id": "2c7ac099",
    "outputId": "7174aa3f-5c28-4462-bdb9-0df8653a6d17"
   },
   "outputs": [
    {
     "data": {
      "image/png": "[encoded data removed]",
      "text/plain": [
       "<Figure size 432x288 with 1 Axes>"
      ]
     },
     "metadata": {
      "needs_background": "light"
     },
     "output_type": "display_data"
    }
   ],
   "source": [
    "count, bins, ignored = plt.hist(original_data, 14)\n",
    "plt.show()"
   ]
  },
  {
   "cell_type": "code",
   "execution_count": 167,
   "id": "f72facb7",
   "metadata": {
    "colab": {
     "base_uri": "https://localhost:8080/",
     "height": 390
    },
    "executionInfo": {
     "elapsed": 1252,
     "status": "ok",
     "timestamp": 1626169653704,
     "user": {
      "displayName": "Kevin Karobia",
      "photoUrl": "",
      "userId": "11620910033834049837"
     },
     "user_tz": -180
    },
    "id": "f72facb7",
    "outputId": "0a9f07df-862f-4aa4-99bf-9d822f043557"
   },
   "outputs": [
    {
     "data": {
      "image/png": "[encoded data removed]",
      "text/plain": [
       "<Figure size 720x432 with 2 Axes>"
      ]
     },
     "metadata": {
      "needs_background": "light"
     },
     "output_type": "display_data"
    }
   ],
   "source": [
    "# mix-max scale the data between 0 and 1\n",
    "def scaler(df):\n",
    "    scaled_data = minmax_scaler.fit_transform(df)\n",
    "\n",
    "    # plot both together to compare\n",
    "    fig, ax = plt.subplots(1,2, figsize=(10, 6))\n",
    "    sns.histplot(original_data, ax=ax[0])\n",
    "    ax[0].set_title(\"Original Data\")\n",
    "    sns.histplot(scaled_data, ax=ax[1])\n",
    "    ax[1].set_title(\"Scaled data\")\n",
    "    \n",
    "scaler(original_data)"
   ]
  },
  {
   "cell_type": "markdown",
   "id": "c3293805",
   "metadata": {
    "id": "c3293805"
   },
   "source": [
    "Normalization\n",
    "\n",
    "Scaling just changes the range of your data. Normalization is a more radical transformation. The point of normalization is to change your observations so that they can be described as a normal distribution.\n",
    "\n",
    "    Normal distribution: Also known as the \"bell curve\", this is a specific statistical distribution where a roughly equal observations fall above and below the mean, the mean and the median are the same, and there are more observations closer to the mean. The normal distribution is also known as the Gaussian distribution.\n",
    "\n",
    "In general, you'll normalize your data if you're going to be using a machine learning or statistics technique that assumes your data is normally distributed. Some examples of these include linear discriminant analysis (LDA) and Gaussian naive Bayes. (Pro tip: any method with \"Gaussian\" in the name probably assumes normality.)\n",
    "\n",
    "The method you will be using to normalize here is called the Normalizer method from sklearn. Let's take a quick peek at what normalizing some data looks like:"
   ]
  },
  {
   "cell_type": "code",
   "execution_count": 168,
   "id": "168acc4d",
   "metadata": {
    "colab": {
     "base_uri": "https://localhost:8080/",
     "height": 390
    },
    "executionInfo": {
     "elapsed": 460,
     "status": "ok",
     "timestamp": 1626169654145,
     "user": {
      "displayName": "Kevin Karobia",
      "photoUrl": "",
      "userId": "11620910033834049837"
     },
     "user_tz": -180
    },
    "id": "168acc4d",
    "outputId": "498cf3f0-697e-4aab-f986-1f37c54c9df8"
   },
   "outputs": [
    {
     "data": {
      "image/png": "[encoded data removed]",
      "text/plain": [
       "<Figure size 720x432 with 2 Axes>"
      ]
     },
     "metadata": {
      "needs_background": "light"
     },
     "output_type": "display_data"
    }
   ],
   "source": [
    "from sklearn.preprocessing import Normalizer\n",
    "\n",
    "def normalizer(df):\n",
    "    norm = Normalizer()\n",
    "    # normalize the exponential data with boxcox\n",
    "    normalized_data = norm.fit_transform(df)\n",
    "\n",
    "    # plot both together to compare\n",
    "    fig, ax=plt.subplots(1,2, figsize=(10, 6))\n",
    "    sns.histplot(df, ax=ax[0])\n",
    "    ax[0].set_title(\"Original Data\")\n",
    "    sns.histplot(normalized_data[0], ax=ax[1])\n",
    "    ax[1].set_title(\"Normalized data\")\n",
    "\n",
    "normalizer(original_data)"
   ]
  },
  {
   "cell_type": "code",
   "execution_count": 169,
   "id": "2943df05",
   "metadata": {
    "colab": {
     "base_uri": "https://localhost:8080/"
    },
    "executionInfo": {
     "elapsed": 29,
     "status": "ok",
     "timestamp": 1626169654147,
     "user": {
      "displayName": "Kevin Karobia",
      "photoUrl": "",
      "userId": "11620910033834049837"
     },
     "user_tz": -180
    },
    "id": "2943df05",
    "outputId": "f7192dec-fc2b-4036-f917-5a37ca952fde"
   },
   "outputs": [
    {
     "name": "stdout",
     "output_type": "stream",
     "text": [
      "<class 'pandas.core.frame.DataFrame'>\n",
      "RangeIndex: 150001 entries, 0 to 150000\n",
      "Data columns (total 45 columns):\n",
      " #   Column                          Non-Null Count   Dtype  \n",
      "---  ------                          --------------   -----  \n",
      " 0   Bearer Id                       150001 non-null  float64\n",
      " 1   Start                           150001 non-null  object \n",
      " 2   Start ms                        150001 non-null  float64\n",
      " 3   End                             150001 non-null  object \n",
      " 4   End ms                          150001 non-null  float64\n",
      " 5   Dur. (ms)                       150001 non-null  float64\n",
      " 6   IMSI                            150001 non-null  float64\n",
      " 7   MSISDN/Number                   150001 non-null  float64\n",
      " 8   IMEI                            150001 non-null  float64\n",
      " 9   Last Location Name              150001 non-null  object \n",
      " 10  Avg RTT DL (ms)                 122172 non-null  float64\n",
      " 11  Avg RTT UL (ms)                 122189 non-null  float64\n",
      " 12  Avg Bearer TP DL (kbps)         150001 non-null  float64\n",
      " 13  Avg Bearer TP UL (kbps)         150001 non-null  float64\n",
      " 14  DL TP < 50 Kbps (%)             150001 non-null  float64\n",
      " 15  50 Kbps < DL TP < 250 Kbps (%)  150001 non-null  float64\n",
      " 16  250 Kbps < DL TP < 1 Mbps (%)   150001 non-null  float64\n",
      " 17  DL TP > 1 Mbps (%)              150001 non-null  float64\n",
      " 18  UL TP < 10 Kbps (%)             150001 non-null  float64\n",
      " 19  10 Kbps < UL TP < 50 Kbps (%)   150001 non-null  float64\n",
      " 20  50 Kbps < UL TP < 300 Kbps (%)  150001 non-null  float64\n",
      " 21  UL TP > 300 Kbps (%)            150001 non-null  float64\n",
      " 22  Activity Duration DL (ms)       150001 non-null  float64\n",
      " 23  Activity Duration UL (ms)       150001 non-null  float64\n",
      " 24  Dur. (ms).1                     150001 non-null  float64\n",
      " 25  Handset Manufacturer            150001 non-null  object \n",
      " 26  Handset Type                    150001 non-null  object \n",
      " 27  Nb of sec with Vol DL < 6250B   150001 non-null  float64\n",
      " 28  Nb of sec with Vol UL < 1250B   150001 non-null  float64\n",
      " 29  Social Media DL (Bytes)         150001 non-null  float64\n",
      " 30  Social Media UL (Bytes)         150001 non-null  float64\n",
      " 31  Google DL (Bytes)               150001 non-null  float64\n",
      " 32  Google UL (Bytes)               150001 non-null  float64\n",
      " 33  Email DL (Bytes)                150001 non-null  float64\n",
      " 34  Email UL (Bytes)                150001 non-null  float64\n",
      " 35  Youtube DL (Bytes)              150001 non-null  float64\n",
      " 36  Youtube UL (Bytes)              150001 non-null  float64\n",
      " 37  Netflix DL (Bytes)              150001 non-null  float64\n",
      " 38  Netflix UL (Bytes)              150001 non-null  float64\n",
      " 39  Gaming DL (Bytes)               150001 non-null  float64\n",
      " 40  Gaming UL (Bytes)               150001 non-null  float64\n",
      " 41  Other DL (Bytes)                150001 non-null  float64\n",
      " 42  Other UL (Bytes)                150001 non-null  float64\n",
      " 43  Total UL (Bytes)                150001 non-null  float64\n",
      " 44  Total DL (Bytes)                150001 non-null  float64\n",
      "dtypes: float64(40), object(5)\n",
      "memory usage: 51.5+ MB\n"
     ]
    }
   ],
   "source": [
    "# check datatypes\n",
    "df_clean.info()"
   ]
  },
  {
   "cell_type": "code",
   "execution_count": 170,
   "id": "f6c83459",
   "metadata": {},
   "outputs": [
    {
     "data": {
      "text/plain": [
       "<AxesSubplot:>"
      ]
     },
     "execution_count": 170,
     "metadata": {},
     "output_type": "execute_result"
    },
    {
     "data": {
      "image/png": "[encoded data removed]",
      "text/plain": [
       "<Figure size 432x288 with 1 Axes>"
      ]
     },
     "metadata": {
      "needs_background": "light"
     },
     "output_type": "display_data"
    }
   ],
   "source": [
    "\n",
    "df_clean['IMEI'].plot.box()"
   ]
  },
  {
   "cell_type": "code",
   "execution_count": 171,
   "id": "98245a21",
   "metadata": {},
   "outputs": [
    {
     "data": {
      "text/plain": [
       "Apple      60137\n",
       "Samsung    40839\n",
       "Huawei     34423\n",
       "Name: Handset Manufacturer, dtype: int64"
      ]
     },
     "execution_count": 171,
     "metadata": {},
     "output_type": "execute_result"
    }
   ],
   "source": [
    "\n",
    "#Counting Handset Manufacturers\n",
    "df_clean['Handset Manufacturer'].value_counts().head(3)"
   ]
  },
  {
   "cell_type": "code",
   "execution_count": 172,
   "id": "950e1d38",
   "metadata": {},
   "outputs": [
    {
     "data": {
      "text/plain": [
       "Huawei B528S-23A                20324\n",
       "Apple iPhone 6S (A1688)          9419\n",
       "Apple iPhone 6 (A1586)           9023\n",
       "undefined                        8987\n",
       "Apple iPhone 7 (A1778)           6326\n",
       "Apple iPhone Se (A1723)          5187\n",
       "Apple iPhone 8 (A1905)           4993\n",
       "Apple iPhone Xr (A2105)          4568\n",
       "Samsung Galaxy S8 (Sm-G950F)     4520\n",
       "Apple iPhone X (A1901)           3813\n",
       "Name: Handset Type, dtype: int64"
      ]
     },
     "execution_count": 172,
     "metadata": {},
     "output_type": "execute_result"
    }
   ],
   "source": [
    "#Counting Handset Types\n",
    "top10 = df_clean['Handset Type'].value_counts().head(10)\n",
    "\n",
    "top10.head(10)"
   ]
  },
  {
   "cell_type": "code",
   "execution_count": 173,
   "id": "0239dd83",
   "metadata": {},
   "outputs": [
    {
     "data": {
      "text/plain": [
       "<AxesSubplot:ylabel='Handset Type'>"
      ]
     },
     "execution_count": 173,
     "metadata": {},
     "output_type": "execute_result"
    },
    {
     "data": {
      "image/png": "[encoded data removed]",
      "text/plain": [
       "<Figure size 432x288 with 1 Axes>"
      ]
     },
     "metadata": {},
     "output_type": "display_data"
    }
   ],
   "source": [
    "top10.plot.pie()"
   ]
  },
  {
   "cell_type": "code",
   "execution_count": 174,
   "id": "6169935c",
   "metadata": {},
   "outputs": [
    {
     "data": {
      "text/plain": [
       "<AxesSubplot:>"
      ]
     },
     "execution_count": 174,
     "metadata": {},
     "output_type": "execute_result"
    },
    {
     "data": {
      "image/png": "[encoded data removed]",
      "text/plain": [
       "<Figure size 432x288 with 1 Axes>"
      ]
     },
     "metadata": {
      "needs_background": "light"
     },
     "output_type": "display_data"
    }
   ],
   "source": [
    "top10.plot.bar()"
   ]
  },
  {
   "cell_type": "code",
   "execution_count": 175,
   "id": "8931d7ad",
   "metadata": {},
   "outputs": [
    {
     "data": {
      "text/plain": [
       "Handset Type\n",
       "Apple iPhone 6S (A1688)    9419\n",
       "Apple iPhone 6 (A1586)     9023\n",
       "Apple iPhone 7 (A1778)     6326\n",
       "Apple iPhone Se (A1723)    5187\n",
       "Apple iPhone 8 (A1905)     4993\n",
       "Name: Handset Type, dtype: int64"
      ]
     },
     "execution_count": 175,
     "metadata": {},
     "output_type": "execute_result"
    }
   ],
   "source": [
    "top_apple = df_clean.groupby('Handset Manufacturer')['Handset Type'].value_counts()['Apple'].head(5)\n",
    "top_apple\n",
    "#top_apple.plot.bar()"
   ]
  },
  {
   "cell_type": "code",
   "execution_count": 176,
   "id": "184acf54",
   "metadata": {},
   "outputs": [
    {
     "data": {
      "text/plain": [
       "Handset Type\n",
       "Samsung Galaxy S8 (Sm-G950F)    4520\n",
       "Samsung Galaxy A5 Sm-A520F      3724\n",
       "Samsung Galaxy J5 (Sm-J530)     3696\n",
       "Samsung Galaxy J3 (Sm-J330)     3484\n",
       "Samsung Galaxy S7 (Sm-G930X)    3199\n",
       "Name: Handset Type, dtype: int64"
      ]
     },
     "execution_count": 176,
     "metadata": {},
     "output_type": "execute_result"
    }
   ],
   "source": [
    "top_samsung = df_clean.groupby('Handset Manufacturer')['Handset Type'].value_counts()['Samsung'].head(5)\n",
    "top_samsung\n",
    "#top_samsung.plot.bar()"
   ]
  },
  {
   "cell_type": "code",
   "execution_count": 177,
   "id": "4ef40be2",
   "metadata": {},
   "outputs": [
    {
     "data": {
      "text/plain": [
       "Handset Type\n",
       "Huawei B528S-23A                  19752\n",
       "Huawei E5180                       2079\n",
       "Huawei P20 Lite Huawei Nova 3E     2021\n",
       "Huawei P20                         1480\n",
       "Huawei Y6 2018                      997\n",
       "Name: Handset Type, dtype: int64"
      ]
     },
     "execution_count": 177,
     "metadata": {},
     "output_type": "execute_result"
    }
   ],
   "source": [
    "top_huawei = df_clean.groupby('Handset Manufacturer')['Handset Type'].value_counts()['Huawei'].head(5)\n",
    "top_huawei\n",
    "#top_huawei.plot.bar()"
   ]
  },
  {
   "cell_type": "code",
   "execution_count": 178,
   "id": "119c18b3",
   "metadata": {},
   "outputs": [
    {
     "data": {
      "text/html": [
       "<div>\n",
       "<style scoped>\n",
       "    .dataframe tbody tr th:only-of-type {\n",
       "        vertical-align: middle;\n",
       "    }\n",
       "\n",
       "    .dataframe tbody tr th {\n",
       "        vertical-align: top;\n",
       "    }\n",
       "\n",
       "    .dataframe thead th {\n",
       "        text-align: right;\n",
       "    }\n",
       "</style>\n",
       "<table border=\"1\" class=\"dataframe\">\n",
       "  <thead>\n",
       "    <tr style=\"text-align: right;\">\n",
       "      <th></th>\n",
       "      <th>xDR_sessions</th>\n",
       "    </tr>\n",
       "    <tr>\n",
       "      <th>MSISDN/Number</th>\n",
       "      <th></th>\n",
       "    </tr>\n",
       "  </thead>\n",
       "  <tbody>\n",
       "    <tr>\n",
       "      <th>33,626,320,676.00</th>\n",
       "      <td>1084</td>\n",
       "    </tr>\n",
       "    <tr>\n",
       "      <th>33,625,779,332.00</th>\n",
       "      <td>17</td>\n",
       "    </tr>\n",
       "    <tr>\n",
       "      <th>33,614,892,860.00</th>\n",
       "      <td>17</td>\n",
       "    </tr>\n",
       "    <tr>\n",
       "      <th>33,659,725,664.00</th>\n",
       "      <td>16</td>\n",
       "    </tr>\n",
       "    <tr>\n",
       "      <th>33,760,536,639.00</th>\n",
       "      <td>15</td>\n",
       "    </tr>\n",
       "    <tr>\n",
       "      <th>33,675,877,202.00</th>\n",
       "      <td>15</td>\n",
       "    </tr>\n",
       "    <tr>\n",
       "      <th>33,667,163,239.00</th>\n",
       "      <td>13</td>\n",
       "    </tr>\n",
       "    <tr>\n",
       "      <th>33,627,080,969.00</th>\n",
       "      <td>12</td>\n",
       "    </tr>\n",
       "    <tr>\n",
       "      <th>33,604,515,716.00</th>\n",
       "      <td>12</td>\n",
       "    </tr>\n",
       "    <tr>\n",
       "      <th>33,760,413,819.00</th>\n",
       "      <td>12</td>\n",
       "    </tr>\n",
       "  </tbody>\n",
       "</table>\n",
       "</div>"
      ],
      "text/plain": [
       "                   xDR_sessions\n",
       "MSISDN/Number                  \n",
       "33,626,320,676.00          1084\n",
       "33,625,779,332.00            17\n",
       "33,614,892,860.00            17\n",
       "33,659,725,664.00            16\n",
       "33,760,536,639.00            15\n",
       "33,675,877,202.00            15\n",
       "33,667,163,239.00            13\n",
       "33,627,080,969.00            12\n",
       "33,604,515,716.00            12\n",
       "33,760,413,819.00            12"
      ]
     },
     "execution_count": 178,
     "metadata": {},
     "output_type": "execute_result"
    }
   ],
   "source": [
    "sessions = df_clean.groupby('MSISDN/Number').agg({'Bearer Id': 'count'})\n",
    "sessions = sessions.rename(columns= {'Bearer Id': 'xDR_sessions'})\n",
    "sessions.sort_values(by=['xDR_sessions'], ascending = False).head(10)"
   ]
  },
  {
   "cell_type": "code",
   "execution_count": 179,
   "id": "97b264a9",
   "metadata": {},
   "outputs": [
    {
     "data": {
      "text/html": [
       "<div>\n",
       "<style scoped>\n",
       "    .dataframe tbody tr th:only-of-type {\n",
       "        vertical-align: middle;\n",
       "    }\n",
       "\n",
       "    .dataframe tbody tr th {\n",
       "        vertical-align: top;\n",
       "    }\n",
       "\n",
       "    .dataframe thead th {\n",
       "        text-align: right;\n",
       "    }\n",
       "</style>\n",
       "<table border=\"1\" class=\"dataframe\">\n",
       "  <thead>\n",
       "    <tr style=\"text-align: right;\">\n",
       "      <th></th>\n",
       "      <th>total_duration(ms)</th>\n",
       "    </tr>\n",
       "    <tr>\n",
       "      <th>MSISDN/Number</th>\n",
       "      <th></th>\n",
       "    </tr>\n",
       "  </thead>\n",
       "  <tbody>\n",
       "    <tr>\n",
       "      <th>33,626,320,676.00</th>\n",
       "      <td>81,336,233.00</td>\n",
       "    </tr>\n",
       "    <tr>\n",
       "      <th>33,625,779,332.00</th>\n",
       "      <td>18,553,754.00</td>\n",
       "    </tr>\n",
       "    <tr>\n",
       "      <th>33,614,892,860.00</th>\n",
       "      <td>9,966,898.00</td>\n",
       "    </tr>\n",
       "    <tr>\n",
       "      <th>33,760,536,639.00</th>\n",
       "      <td>9,279,434.00</td>\n",
       "    </tr>\n",
       "    <tr>\n",
       "      <th>33,667,163,239.00</th>\n",
       "      <td>8,744,914.00</td>\n",
       "    </tr>\n",
       "    <tr>\n",
       "      <th>33,662,840,755.00</th>\n",
       "      <td>6,614,270.00</td>\n",
       "    </tr>\n",
       "    <tr>\n",
       "      <th>33,664,693,736.00</th>\n",
       "      <td>6,288,730.00</td>\n",
       "    </tr>\n",
       "    <tr>\n",
       "      <th>33,603,127,838.00</th>\n",
       "      <td>6,287,761.00</td>\n",
       "    </tr>\n",
       "    <tr>\n",
       "      <th>33,667,456,716.00</th>\n",
       "      <td>5,649,882.00</td>\n",
       "    </tr>\n",
       "    <tr>\n",
       "      <th>33,760,413,819.00</th>\n",
       "      <td>5,321,667.00</td>\n",
       "    </tr>\n",
       "  </tbody>\n",
       "</table>\n",
       "</div>"
      ],
      "text/plain": [
       "                   total_duration(ms)\n",
       "MSISDN/Number                        \n",
       "33,626,320,676.00       81,336,233.00\n",
       "33,625,779,332.00       18,553,754.00\n",
       "33,614,892,860.00        9,966,898.00\n",
       "33,760,536,639.00        9,279,434.00\n",
       "33,667,163,239.00        8,744,914.00\n",
       "33,662,840,755.00        6,614,270.00\n",
       "33,664,693,736.00        6,288,730.00\n",
       "33,603,127,838.00        6,287,761.00\n",
       "33,667,456,716.00        5,649,882.00\n",
       "33,760,413,819.00        5,321,667.00"
      ]
     },
     "execution_count": 179,
     "metadata": {},
     "output_type": "execute_result"
    }
   ],
   "source": [
    "durations = df_clean.groupby('MSISDN/Number').agg({'Dur. (ms)': 'sum'})\n",
    "#here is the duration for first five rows in our dataset\n",
    "durations=durations.rename(columns= {'Dur. (ms)': 'total_duration(ms)'})\n",
    "durations.sort_values(by=['total_duration(ms)'], ascending = False).head(10)"
   ]
  },
  {
   "cell_type": "code",
   "execution_count": 180,
   "id": "505b60a8",
   "metadata": {
    "scrolled": true
   },
   "outputs": [
    {
     "data": {
      "text/html": [
       "<div>\n",
       "<style scoped>\n",
       "    .dataframe tbody tr th:only-of-type {\n",
       "        vertical-align: middle;\n",
       "    }\n",
       "\n",
       "    .dataframe tbody tr th {\n",
       "        vertical-align: top;\n",
       "    }\n",
       "\n",
       "    .dataframe thead th {\n",
       "        text-align: right;\n",
       "    }\n",
       "</style>\n",
       "<table border=\"1\" class=\"dataframe\">\n",
       "  <thead>\n",
       "    <tr style=\"text-align: right;\">\n",
       "      <th></th>\n",
       "      <th>Total UL (Bytes)</th>\n",
       "      <th>Total DL (Bytes)</th>\n",
       "      <th>total_data(bytes)</th>\n",
       "    </tr>\n",
       "    <tr>\n",
       "      <th>MSISDN/Number</th>\n",
       "      <th></th>\n",
       "      <th></th>\n",
       "      <th></th>\n",
       "    </tr>\n",
       "  </thead>\n",
       "  <tbody>\n",
       "    <tr>\n",
       "      <th>33,626,320,676.00</th>\n",
       "      <td>45,024,579,099.00</td>\n",
       "      <td>494,597,054,786.00</td>\n",
       "      <td>539,621,633,885.00</td>\n",
       "    </tr>\n",
       "    <tr>\n",
       "      <th>33,614,892,860.00</th>\n",
       "      <td>689,483,001.00</td>\n",
       "      <td>8,156,743,493.00</td>\n",
       "      <td>8,846,226,494.00</td>\n",
       "    </tr>\n",
       "    <tr>\n",
       "      <th>33,760,536,639.00</th>\n",
       "      <td>703,478,581.00</td>\n",
       "      <td>7,811,295,382.00</td>\n",
       "      <td>8,514,773,963.00</td>\n",
       "    </tr>\n",
       "    <tr>\n",
       "      <th>33,625,779,332.00</th>\n",
       "      <td>729,577,380.00</td>\n",
       "      <td>7,770,043,342.00</td>\n",
       "      <td>8,499,620,722.00</td>\n",
       "    </tr>\n",
       "    <tr>\n",
       "      <th>33,675,877,202.00</th>\n",
       "      <td>581,568,792.00</td>\n",
       "      <td>7,309,541,816.00</td>\n",
       "      <td>7,891,110,608.00</td>\n",
       "    </tr>\n",
       "    <tr>\n",
       "      <th>33,659,725,664.00</th>\n",
       "      <td>624,260,321.00</td>\n",
       "      <td>7,081,602,462.00</td>\n",
       "      <td>7,705,862,783.00</td>\n",
       "    </tr>\n",
       "    <tr>\n",
       "      <th>33,666,464,084.00</th>\n",
       "      <td>405,060,976.00</td>\n",
       "      <td>6,903,439,962.00</td>\n",
       "      <td>7,308,500,938.00</td>\n",
       "    </tr>\n",
       "    <tr>\n",
       "      <th>33,760,413,819.00</th>\n",
       "      <td>521,518,890.00</td>\n",
       "      <td>6,610,851,624.00</td>\n",
       "      <td>7,132,370,514.00</td>\n",
       "    </tr>\n",
       "    <tr>\n",
       "      <th>33,664,712,899.00</th>\n",
       "      <td>471,244,453.00</td>\n",
       "      <td>6,400,773,755.00</td>\n",
       "      <td>6,872,018,208.00</td>\n",
       "    </tr>\n",
       "    <tr>\n",
       "      <th>33,698,792,269.00</th>\n",
       "      <td>530,343,105.00</td>\n",
       "      <td>6,010,556,021.00</td>\n",
       "      <td>6,540,899,126.00</td>\n",
       "    </tr>\n",
       "  </tbody>\n",
       "</table>\n",
       "</div>"
      ],
      "text/plain": [
       "                   Total UL (Bytes)   Total DL (Bytes)  total_data(bytes)\n",
       "MSISDN/Number                                                            \n",
       "33,626,320,676.00 45,024,579,099.00 494,597,054,786.00 539,621,633,885.00\n",
       "33,614,892,860.00    689,483,001.00   8,156,743,493.00   8,846,226,494.00\n",
       "33,760,536,639.00    703,478,581.00   7,811,295,382.00   8,514,773,963.00\n",
       "33,625,779,332.00    729,577,380.00   7,770,043,342.00   8,499,620,722.00\n",
       "33,675,877,202.00    581,568,792.00   7,309,541,816.00   7,891,110,608.00\n",
       "33,659,725,664.00    624,260,321.00   7,081,602,462.00   7,705,862,783.00\n",
       "33,666,464,084.00    405,060,976.00   6,903,439,962.00   7,308,500,938.00\n",
       "33,760,413,819.00    521,518,890.00   6,610,851,624.00   7,132,370,514.00\n",
       "33,664,712,899.00    471,244,453.00   6,400,773,755.00   6,872,018,208.00\n",
       "33,698,792,269.00    530,343,105.00   6,010,556,021.00   6,540,899,126.00"
      ]
     },
     "execution_count": 180,
     "metadata": {},
     "output_type": "execute_result"
    }
   ],
   "source": [
    "total_data_df = df_clean[['MSISDN/Number','Total UL (Bytes)','Total DL (Bytes)']].copy()\n",
    "total_data_df = total_data_df.groupby('MSISDN/Number').sum()\n",
    "total_data_df['total_data(bytes)'] = total_data_df['Total UL (Bytes)'] + total_data_df['Total DL (Bytes)']\n",
    "total_data_df.sort_values(by=['total_data(bytes)'], ascending = False).head(10)"
   ]
  },
  {
   "cell_type": "code",
   "execution_count": 181,
   "id": "7dc6f875",
   "metadata": {},
   "outputs": [],
   "source": [
    "df_clean[\"social_media\"] = df_clean[\"Social Media DL (Bytes)\"] + df_clean['Social Media UL (Bytes)']\n",
    "df_clean[\"google\"] = df_clean[\"Google DL (Bytes)\"] + df_clean[\"Google UL (Bytes)\"]\n",
    "df_clean['email'] = df_clean[\"Email DL (Bytes)\"] + df_clean[\"Email UL (Bytes)\"]\n",
    "df_clean['youtube'] = df_clean[\"Youtube DL (Bytes)\"] + df_clean[\"Youtube UL (Bytes)\"]\n",
    "df_clean['netflix'] = df_clean[\"Netflix DL (Bytes)\"] + df_clean[\"Netflix UL (Bytes)\"]\n",
    "df_clean[\"gaming\"] = df_clean[\"Gaming DL (Bytes)\"] + df_clean[\"Gaming UL (Bytes)\"]\n",
    "df_clean['other']= df_clean[\"Other DL (Bytes)\"]+ df_clean[\"Other UL (Bytes)\"]\n",
    "df_clean['total_data'] = df_clean['Total UL (Bytes)'] + df_clean['Total UL (Bytes)']\n"
   ]
  },
  {
   "cell_type": "code",
   "execution_count": 182,
   "id": "f376e01f",
   "metadata": {},
   "outputs": [],
   "source": [
    "app_total_data = df_clean[['MSISDN/Number','social_media','google',\n",
    "                             'email', 'youtube','netflix', 'gaming','other']].copy()"
   ]
  },
  {
   "cell_type": "code",
   "execution_count": 183,
   "id": "9e22b94c",
   "metadata": {},
   "outputs": [
    {
     "data": {
      "text/html": [
       "<div>\n",
       "<style scoped>\n",
       "    .dataframe tbody tr th:only-of-type {\n",
       "        vertical-align: middle;\n",
       "    }\n",
       "\n",
       "    .dataframe tbody tr th {\n",
       "        vertical-align: top;\n",
       "    }\n",
       "\n",
       "    .dataframe thead th {\n",
       "        text-align: right;\n",
       "    }\n",
       "</style>\n",
       "<table border=\"1\" class=\"dataframe\">\n",
       "  <thead>\n",
       "    <tr style=\"text-align: right;\">\n",
       "      <th></th>\n",
       "      <th>social_media</th>\n",
       "      <th>google</th>\n",
       "      <th>email</th>\n",
       "      <th>youtube</th>\n",
       "      <th>netflix</th>\n",
       "      <th>gaming</th>\n",
       "      <th>other</th>\n",
       "    </tr>\n",
       "    <tr>\n",
       "      <th>MSISDN/Number</th>\n",
       "      <th></th>\n",
       "      <th></th>\n",
       "      <th></th>\n",
       "      <th></th>\n",
       "      <th></th>\n",
       "      <th></th>\n",
       "      <th></th>\n",
       "    </tr>\n",
       "  </thead>\n",
       "  <tbody>\n",
       "    <tr>\n",
       "      <th>33,761,464,273.00</th>\n",
       "      <td>3,515,195.00</td>\n",
       "      <td>8,164,605.00</td>\n",
       "      <td>2,324,930.00</td>\n",
       "      <td>29,720,936.00</td>\n",
       "      <td>11,485,464.00</td>\n",
       "      <td>612,931,000.00</td>\n",
       "      <td>695,333,774.00</td>\n",
       "    </tr>\n",
       "    <tr>\n",
       "      <th>33,615,645,107.00</th>\n",
       "      <td>624,850.00</td>\n",
       "      <td>10,612,136.00</td>\n",
       "      <td>2,873,926.00</td>\n",
       "      <td>21,864,013.00</td>\n",
       "      <td>32,474,405.00</td>\n",
       "      <td>650,654,889.00</td>\n",
       "      <td>809,625,168.00</td>\n",
       "    </tr>\n",
       "    <tr>\n",
       "      <th>33,752,348,476.00</th>\n",
       "      <td>3,622,874.00</td>\n",
       "      <td>7,307,593.00</td>\n",
       "      <td>286,327.00</td>\n",
       "      <td>13,319,458.00</td>\n",
       "      <td>18,217,923.00</td>\n",
       "      <td>846,861,885.00</td>\n",
       "      <td>142,327,895.00</td>\n",
       "    </tr>\n",
       "    <tr>\n",
       "      <th>33,665,313,367.00</th>\n",
       "      <td>1,104,493.00</td>\n",
       "      <td>9,257,238.00</td>\n",
       "      <td>1,307,404.00</td>\n",
       "      <td>30,856,981.00</td>\n",
       "      <td>22,798,933.00</td>\n",
       "      <td>148,722,910.00</td>\n",
       "      <td>597,311,952.00</td>\n",
       "    </tr>\n",
       "    <tr>\n",
       "      <th>33,762,626,479.00</th>\n",
       "      <td>3,244,155.00</td>\n",
       "      <td>3,426,133.00</td>\n",
       "      <td>3,625,729.00</td>\n",
       "      <td>27,772,321.00</td>\n",
       "      <td>23,014,946.00</td>\n",
       "      <td>162,645,622.00</td>\n",
       "      <td>844,353,601.00</td>\n",
       "    </tr>\n",
       "    <tr>\n",
       "      <th>33,615,650,063.00</th>\n",
       "      <td>2,261,308.00</td>\n",
       "      <td>9,011,131.00</td>\n",
       "      <td>2,260,674.00</td>\n",
       "      <td>17,354,776.00</td>\n",
       "      <td>14,165,245.00</td>\n",
       "      <td>58,218,913.00</td>\n",
       "      <td>815,288,560.00</td>\n",
       "    </tr>\n",
       "    <tr>\n",
       "      <th>33,669,397,769.00</th>\n",
       "      <td>1,396,657.00</td>\n",
       "      <td>5,234,601.00</td>\n",
       "      <td>2,174,128.00</td>\n",
       "      <td>32,067,620.00</td>\n",
       "      <td>25,371,745.00</td>\n",
       "      <td>227,989,581.00</td>\n",
       "      <td>270,594,653.00</td>\n",
       "    </tr>\n",
       "    <tr>\n",
       "      <th>33,665,164,651.00</th>\n",
       "      <td>1,307,283.00</td>\n",
       "      <td>3,002,832.00</td>\n",
       "      <td>951,959.00</td>\n",
       "      <td>29,435,908.00</td>\n",
       "      <td>21,181,588.00</td>\n",
       "      <td>87,344,180.00</td>\n",
       "      <td>244,860,256.00</td>\n",
       "    </tr>\n",
       "    <tr>\n",
       "      <th>33,618,081,486.00</th>\n",
       "      <td>1,523,047.00</td>\n",
       "      <td>18,853,388.00</td>\n",
       "      <td>4,949,825.00</td>\n",
       "      <td>29,039,362.00</td>\n",
       "      <td>47,609,097.00</td>\n",
       "      <td>947,096,448.00</td>\n",
       "      <td>437,457,224.00</td>\n",
       "    </tr>\n",
       "    <tr>\n",
       "      <th>33,665,523,915.00</th>\n",
       "      <td>2,023,375.00</td>\n",
       "      <td>1,332,230.00</td>\n",
       "      <td>3,083,079.00</td>\n",
       "      <td>28,002,113.00</td>\n",
       "      <td>29,845,596.00</td>\n",
       "      <td>602,617,403.00</td>\n",
       "      <td>313,019,812.00</td>\n",
       "    </tr>\n",
       "  </tbody>\n",
       "</table>\n",
       "</div>"
      ],
      "text/plain": [
       "                   social_media        google        email       youtube  \\\n",
       "MSISDN/Number                                                              \n",
       "33,761,464,273.00  3,515,195.00  8,164,605.00 2,324,930.00 29,720,936.00   \n",
       "33,615,645,107.00    624,850.00 10,612,136.00 2,873,926.00 21,864,013.00   \n",
       "33,752,348,476.00  3,622,874.00  7,307,593.00   286,327.00 13,319,458.00   \n",
       "33,665,313,367.00  1,104,493.00  9,257,238.00 1,307,404.00 30,856,981.00   \n",
       "33,762,626,479.00  3,244,155.00  3,426,133.00 3,625,729.00 27,772,321.00   \n",
       "33,615,650,063.00  2,261,308.00  9,011,131.00 2,260,674.00 17,354,776.00   \n",
       "33,669,397,769.00  1,396,657.00  5,234,601.00 2,174,128.00 32,067,620.00   \n",
       "33,665,164,651.00  1,307,283.00  3,002,832.00   951,959.00 29,435,908.00   \n",
       "33,618,081,486.00  1,523,047.00 18,853,388.00 4,949,825.00 29,039,362.00   \n",
       "33,665,523,915.00  2,023,375.00  1,332,230.00 3,083,079.00 28,002,113.00   \n",
       "\n",
       "                        netflix         gaming          other  \n",
       "MSISDN/Number                                                  \n",
       "33,761,464,273.00 11,485,464.00 612,931,000.00 695,333,774.00  \n",
       "33,615,645,107.00 32,474,405.00 650,654,889.00 809,625,168.00  \n",
       "33,752,348,476.00 18,217,923.00 846,861,885.00 142,327,895.00  \n",
       "33,665,313,367.00 22,798,933.00 148,722,910.00 597,311,952.00  \n",
       "33,762,626,479.00 23,014,946.00 162,645,622.00 844,353,601.00  \n",
       "33,615,650,063.00 14,165,245.00  58,218,913.00 815,288,560.00  \n",
       "33,669,397,769.00 25,371,745.00 227,989,581.00 270,594,653.00  \n",
       "33,665,164,651.00 21,181,588.00  87,344,180.00 244,860,256.00  \n",
       "33,618,081,486.00 47,609,097.00 947,096,448.00 437,457,224.00  \n",
       "33,665,523,915.00 29,845,596.00 602,617,403.00 313,019,812.00  "
      ]
     },
     "execution_count": 183,
     "metadata": {},
     "output_type": "execute_result"
    }
   ],
   "source": [
    "app_total_data.groupby('MSISDN/Number').sum().sample(10)"
   ]
  },
  {
   "cell_type": "markdown",
   "id": "f640ccb4",
   "metadata": {
    "id": "f640ccb4"
   },
   "source": [
    "## Utility Functions"
   ]
  },
  {
   "cell_type": "code",
   "execution_count": 184,
   "id": "da4dc75a",
   "metadata": {},
   "outputs": [
    {
     "name": "stdout",
     "output_type": "stream",
     "text": [
      "<class 'pandas.core.frame.DataFrame'>\n",
      "RangeIndex: 150001 entries, 0 to 150000\n",
      "Data columns (total 53 columns):\n",
      " #   Column                          Non-Null Count   Dtype  \n",
      "---  ------                          --------------   -----  \n",
      " 0   Bearer Id                       150001 non-null  float64\n",
      " 1   Start                           150001 non-null  object \n",
      " 2   Start ms                        150001 non-null  float64\n",
      " 3   End                             150001 non-null  object \n",
      " 4   End ms                          150001 non-null  float64\n",
      " 5   Dur. (ms)                       150001 non-null  float64\n",
      " 6   IMSI                            150001 non-null  float64\n",
      " 7   MSISDN/Number                   150001 non-null  float64\n",
      " 8   IMEI                            150001 non-null  float64\n",
      " 9   Last Location Name              150001 non-null  object \n",
      " 10  Avg RTT DL (ms)                 122172 non-null  float64\n",
      " 11  Avg RTT UL (ms)                 122189 non-null  float64\n",
      " 12  Avg Bearer TP DL (kbps)         150001 non-null  float64\n",
      " 13  Avg Bearer TP UL (kbps)         150001 non-null  float64\n",
      " 14  DL TP < 50 Kbps (%)             150001 non-null  float64\n",
      " 15  50 Kbps < DL TP < 250 Kbps (%)  150001 non-null  float64\n",
      " 16  250 Kbps < DL TP < 1 Mbps (%)   150001 non-null  float64\n",
      " 17  DL TP > 1 Mbps (%)              150001 non-null  float64\n",
      " 18  UL TP < 10 Kbps (%)             150001 non-null  float64\n",
      " 19  10 Kbps < UL TP < 50 Kbps (%)   150001 non-null  float64\n",
      " 20  50 Kbps < UL TP < 300 Kbps (%)  150001 non-null  float64\n",
      " 21  UL TP > 300 Kbps (%)            150001 non-null  float64\n",
      " 22  Activity Duration DL (ms)       150001 non-null  float64\n",
      " 23  Activity Duration UL (ms)       150001 non-null  float64\n",
      " 24  Dur. (ms).1                     150001 non-null  float64\n",
      " 25  Handset Manufacturer            150001 non-null  object \n",
      " 26  Handset Type                    150001 non-null  object \n",
      " 27  Nb of sec with Vol DL < 6250B   150001 non-null  float64\n",
      " 28  Nb of sec with Vol UL < 1250B   150001 non-null  float64\n",
      " 29  Social Media DL (Bytes)         150001 non-null  float64\n",
      " 30  Social Media UL (Bytes)         150001 non-null  float64\n",
      " 31  Google DL (Bytes)               150001 non-null  float64\n",
      " 32  Google UL (Bytes)               150001 non-null  float64\n",
      " 33  Email DL (Bytes)                150001 non-null  float64\n",
      " 34  Email UL (Bytes)                150001 non-null  float64\n",
      " 35  Youtube DL (Bytes)              150001 non-null  float64\n",
      " 36  Youtube UL (Bytes)              150001 non-null  float64\n",
      " 37  Netflix DL (Bytes)              150001 non-null  float64\n",
      " 38  Netflix UL (Bytes)              150001 non-null  float64\n",
      " 39  Gaming DL (Bytes)               150001 non-null  float64\n",
      " 40  Gaming UL (Bytes)               150001 non-null  float64\n",
      " 41  Other DL (Bytes)                150001 non-null  float64\n",
      " 42  Other UL (Bytes)                150001 non-null  float64\n",
      " 43  Total UL (Bytes)                150001 non-null  float64\n",
      " 44  Total DL (Bytes)                150001 non-null  float64\n",
      " 45  social_media                    150001 non-null  float64\n",
      " 46  google                          150001 non-null  float64\n",
      " 47  email                           150001 non-null  float64\n",
      " 48  youtube                         150001 non-null  float64\n",
      " 49  netflix                         150001 non-null  float64\n",
      " 50  gaming                          150001 non-null  float64\n",
      " 51  other                           150001 non-null  float64\n",
      " 52  total_data                      150001 non-null  float64\n",
      "dtypes: float64(48), object(5)\n",
      "memory usage: 60.7+ MB\n"
     ]
    }
   ],
   "source": [
    "df_clean.info()"
   ]
  },
  {
   "cell_type": "code",
   "execution_count": 185,
   "id": "42f432b8",
   "metadata": {
    "executionInfo": {
     "elapsed": 49,
     "status": "ok",
     "timestamp": 1626169654978,
     "user": {
      "displayName": "Kevin Karobia",
      "photoUrl": "",
      "userId": "11620910033834049837"
     },
     "user_tz": -180
    },
    "id": "42f432b8"
   },
   "outputs": [],
   "source": [
    "# Function to calculate missing values by column\n",
    "def missing_values_table(df):\n",
    "    # Total missing values\n",
    "    mis_val = df.isnull().sum()\n",
    "\n",
    "    # Percentage of missing values\n",
    "    mis_val_percent = 100 * df.isnull().sum() / len(df)\n",
    "\n",
    "    # dtype of missing values\n",
    "    mis_val_dtype = df.dtypes\n",
    "\n",
    "    # Make a table with the results\n",
    "    mis_val_table = pd.concat([mis_val, mis_val_percent, mis_val_dtype], axis=1)\n",
    "\n",
    "    # Rename the columns\n",
    "    mis_val_table_ren_columns = mis_val_table.rename(\n",
    "    columns = {0 : 'Missing Values', 1 : '% of Total Values', 2: 'Dtype'})\n",
    "\n",
    "    # Sort the table by percentage of missing descending\n",
    "    mis_val_table_ren_columns = mis_val_table_ren_columns[\n",
    "        mis_val_table_ren_columns.iloc[:,1] != 0].sort_values(\n",
    "    '% of Total Values', ascending=False).round(1)\n",
    "\n",
    "    # Print some summary information\n",
    "    print (\"Your selected dataframe has \" + str(df.shape[1]) + \" columns.\\n\"      \n",
    "        \"There are \" + str(mis_val_table_ren_columns.shape[0]) +\n",
    "          \" columns that have missing values.\")\n",
    "\n",
    "    # Return the dataframe with missing information\n",
    "    return mis_val_table_ren_columns\n",
    "\n",
    "def format_float(value):\n",
    "    return f'{value:,.2f}'\n",
    "\n",
    "def find_agg(df:pd.DataFrame, agg_column:str, agg_metric:str, col_name:str, top:int, order=False )->pd.DataFrame:\n",
    "    \n",
    "    new_df = df.groupby(agg_column)[agg_column].agg(agg_metric).reset_index(name=col_name).\\\n",
    "                        sort_values(by=col_name, ascending=order)[:top]\n",
    "    \n",
    "    return new_df\n",
    "\n",
    "def convert_bytes_to_megabytes(df, bytes_data):\n",
    "    \"\"\"\n",
    "        This function takes the dataframe and the column which has the bytes values\n",
    "        returns the megabytesof that value\n",
    "        \n",
    "        Args:\n",
    "        -----\n",
    "        df: dataframe\n",
    "        bytes_data: column with bytes values\n",
    "        \n",
    "        Returns:\n",
    "        --------\n",
    "        A series\n",
    "    \"\"\"\n",
    "    \n",
    "    megabyte = 1*10e+5\n",
    "    df[bytes_data] = df[bytes_data] / megabyte\n",
    "    return df[bytes_data]\n",
    "\n",
    "def fix_outlier(df, column):\n",
    "    df[column] = np.where(df[column] > df[column].quantile(0.95), df[column].median(),df[column])\n",
    "    \n",
    "    return df[column]\n",
    "\n",
    "\n",
    "###################################PLOTTING FUNCTIONS###################################\n",
    "\n",
    "def plot_hist(df:pd.DataFrame, column:str, color:str)->None:\n",
    "    # plt.figure(figsize=(15, 10))\n",
    "    # fig, ax = plt.subplots(1, figsize=(12, 7))\n",
    "    sns.displot(data=df, x=column, color=color, kde=True, height=7, aspect=2)\n",
    "    plt.title(f'Distribution of {column}', size=20, fontweight='bold')\n",
    "    plt.show()\n",
    "\n",
    "def plot_count(df:pd.DataFrame, column:str) -> None:\n",
    "    plt.figure(figsize=(12, 7))\n",
    "    sns.countplot(data=df, x=column)\n",
    "    plt.title(f'Distribution of {column}', size=20, fontweight='bold')\n",
    "    plt.show()\n",
    "    \n",
    "def plot_bar(df:pd.DataFrame, x_col:str, y_col:str, title:str, xlabel:str, ylabel:str)->None:\n",
    "    plt.figure(figsize=(12, 7))\n",
    "    sns.barplot(data = df, x=x_col, y=y_col)\n",
    "    plt.title(title, size=20)\n",
    "    plt.xticks(rotation=75, fontsize=14)\n",
    "    plt.yticks( fontsize=14)\n",
    "    plt.xlabel(xlabel, fontsize=16)\n",
    "    plt.ylabel(ylabel, fontsize=16)\n",
    "    plt.show()\n",
    "\n",
    "def plot_heatmap(df:pd.DataFrame, title:str, cbar=False)->None:\n",
    "    plt.figure(figsize=(12, 7))\n",
    "    sns.heatmap(df, annot=True, cmap='viridis', vmin=0, vmax=1, fmt='.2f', linewidths=.7, cbar=cbar )\n",
    "    plt.title(title, size=18, fontweight='bold')\n",
    "    plt.show()\n",
    "\n",
    "def plot_box(df:pd.DataFrame, x_col:str, title:str) -> None:\n",
    "    plt.figure(figsize=(12, 7))\n",
    "    sns.boxplot(data = df, x=x_col)\n",
    "    plt.title(title, size=20)\n",
    "    plt.xticks(rotation=75, fontsize=14)\n",
    "    plt.show()\n",
    "\n",
    "def plot_box_multi(df:pd.DataFrame, x_col:str, y_col:str, title:str) -> None:\n",
    "    plt.figure(figsize=(12, 7))\n",
    "    sns.boxplot(data = df, x=x_col, y=y_col)\n",
    "    plt.title(title, size=20)\n",
    "    plt.xticks(rotation=75, fontsize=14)\n",
    "    plt.yticks( fontsize=14)\n",
    "    plt.show()\n",
    "\n",
    "def plot_scatter(df: pd.DataFrame, x_col: str, y_col: str, title: str, hue: str, style: str) -> None:\n",
    "    plt.figure(figsize=(12, 7))\n",
    "    sns.scatterplot(data = df, x=x_col, y=y_col, hue=hue, style=style)\n",
    "    plt.title(title, size=20)\n",
    "    plt.xticks(fontsize=14)\n",
    "    plt.yticks( fontsize=14)\n",
    "    plt.show()\n",
    "\n",
    "\n",
    "pd.options.display.float_format = format_float"
   ]
  },
  {
   "cell_type": "markdown",
   "id": "0646f25b",
   "metadata": {
    "id": "0646f25b"
   },
   "source": [
    "## Extracting Data"
   ]
  },
  {
   "cell_type": "code",
   "execution_count": 186,
   "id": "7903d60c",
   "metadata": {
    "colab": {
     "base_uri": "https://localhost:8080/"
    },
    "executionInfo": {
     "elapsed": 38,
     "status": "ok",
     "timestamp": 1626169655383,
     "user": {
      "displayName": "Kevin Karobia",
      "photoUrl": "",
      "userId": "11620910033834049837"
     },
     "user_tz": -180
    },
    "id": "7903d60c",
    "outputId": "20b5f5b9-77ce-4569-f187-c05aea5c7fcf"
   },
   "outputs": [
    {
     "data": {
      "text/plain": [
       "6,296,014.00    3\n",
       "9,003,594.00    3\n",
       "3,991,481.00    3\n",
       "6,839,538.00    3\n",
       "7,696,054.00    3\n",
       "               ..\n",
       "5,512,483.00    1\n",
       "1,612,609.00    1\n",
       "4,376,316.00    1\n",
       "4,764,816.00    1\n",
       "294,305.00      1\n",
       "Name: Google DL (Bytes), Length: 149024, dtype: int64"
      ]
     },
     "execution_count": 186,
     "metadata": {},
     "output_type": "execute_result"
    }
   ],
   "source": [
    "db['Google DL (Bytes)'].value_counts()"
   ]
  },
  {
   "cell_type": "code",
   "execution_count": 187,
   "id": "17d1d430",
   "metadata": {
    "colab": {
     "base_uri": "https://localhost:8080/"
    },
    "executionInfo": {
     "elapsed": 36,
     "status": "ok",
     "timestamp": 1626169655384,
     "user": {
      "displayName": "Kevin Karobia",
      "photoUrl": "",
      "userId": "11620910033834049837"
     },
     "user_tz": -180
    },
    "id": "17d1d430",
    "outputId": "902a9e20-c8ed-494a-d733-6e5ac2a8cf69"
   },
   "outputs": [
    {
     "name": "stdout",
     "output_type": "stream",
     "text": [
      "The telecom data dataset contains 0.7 % missing values.\n"
     ]
    }
   ],
   "source": [
    "percent_missing(df_clean)"
   ]
  },
  {
   "cell_type": "code",
   "execution_count": 188,
   "id": "ff47e1e1",
   "metadata": {},
   "outputs": [
    {
     "name": "stdout",
     "output_type": "stream",
     "text": [
      "<class 'pandas.core.frame.DataFrame'>\n",
      "RangeIndex: 150001 entries, 0 to 150000\n",
      "Data columns (total 53 columns):\n",
      " #   Column                          Non-Null Count   Dtype  \n",
      "---  ------                          --------------   -----  \n",
      " 0   Bearer Id                       150001 non-null  float64\n",
      " 1   Start                           150001 non-null  object \n",
      " 2   Start ms                        150001 non-null  float64\n",
      " 3   End                             150001 non-null  object \n",
      " 4   End ms                          150001 non-null  float64\n",
      " 5   Dur. (ms)                       150001 non-null  float64\n",
      " 6   IMSI                            150001 non-null  float64\n",
      " 7   MSISDN/Number                   150001 non-null  float64\n",
      " 8   IMEI                            150001 non-null  float64\n",
      " 9   Last Location Name              150001 non-null  object \n",
      " 10  Avg RTT DL (ms)                 122172 non-null  float64\n",
      " 11  Avg RTT UL (ms)                 122189 non-null  float64\n",
      " 12  Avg Bearer TP DL (kbps)         150001 non-null  float64\n",
      " 13  Avg Bearer TP UL (kbps)         150001 non-null  float64\n",
      " 14  DL TP < 50 Kbps (%)             150001 non-null  float64\n",
      " 15  50 Kbps < DL TP < 250 Kbps (%)  150001 non-null  float64\n",
      " 16  250 Kbps < DL TP < 1 Mbps (%)   150001 non-null  float64\n",
      " 17  DL TP > 1 Mbps (%)              150001 non-null  float64\n",
      " 18  UL TP < 10 Kbps (%)             150001 non-null  float64\n",
      " 19  10 Kbps < UL TP < 50 Kbps (%)   150001 non-null  float64\n",
      " 20  50 Kbps < UL TP < 300 Kbps (%)  150001 non-null  float64\n",
      " 21  UL TP > 300 Kbps (%)            150001 non-null  float64\n",
      " 22  Activity Duration DL (ms)       150001 non-null  float64\n",
      " 23  Activity Duration UL (ms)       150001 non-null  float64\n",
      " 24  Dur. (ms).1                     150001 non-null  float64\n",
      " 25  Handset Manufacturer            150001 non-null  object \n",
      " 26  Handset Type                    150001 non-null  object \n",
      " 27  Nb of sec with Vol DL < 6250B   150001 non-null  float64\n",
      " 28  Nb of sec with Vol UL < 1250B   150001 non-null  float64\n",
      " 29  Social Media DL (Bytes)         150001 non-null  float64\n",
      " 30  Social Media UL (Bytes)         150001 non-null  float64\n",
      " 31  Google DL (Bytes)               150001 non-null  float64\n",
      " 32  Google UL (Bytes)               150001 non-null  float64\n",
      " 33  Email DL (Bytes)                150001 non-null  float64\n",
      " 34  Email UL (Bytes)                150001 non-null  float64\n",
      " 35  Youtube DL (Bytes)              150001 non-null  float64\n",
      " 36  Youtube UL (Bytes)              150001 non-null  float64\n",
      " 37  Netflix DL (Bytes)              150001 non-null  float64\n",
      " 38  Netflix UL (Bytes)              150001 non-null  float64\n",
      " 39  Gaming DL (Bytes)               150001 non-null  float64\n",
      " 40  Gaming UL (Bytes)               150001 non-null  float64\n",
      " 41  Other DL (Bytes)                150001 non-null  float64\n",
      " 42  Other UL (Bytes)                150001 non-null  float64\n",
      " 43  Total UL (Bytes)                150001 non-null  float64\n",
      " 44  Total DL (Bytes)                150001 non-null  float64\n",
      " 45  social_media                    150001 non-null  float64\n",
      " 46  google                          150001 non-null  float64\n",
      " 47  email                           150001 non-null  float64\n",
      " 48  youtube                         150001 non-null  float64\n",
      " 49  netflix                         150001 non-null  float64\n",
      " 50  gaming                          150001 non-null  float64\n",
      " 51  other                           150001 non-null  float64\n",
      " 52  total_data                      150001 non-null  float64\n",
      "dtypes: float64(48), object(5)\n",
      "memory usage: 60.7+ MB\n"
     ]
    }
   ],
   "source": [
    "df_clean.info()"
   ]
  },
  {
   "cell_type": "code",
   "execution_count": 189,
   "id": "3e84daf3",
   "metadata": {},
   "outputs": [],
   "source": [
    "df_explore = df_clean[['Handset Manufacturer', 'Handset Type', 'Dur. (ms)', \n",
    "                                 'social_media', 'google', 'email', 'youtube', 'netflix',\n",
    "                                 'gaming','other', 'total_data'\n",
    "                                ]]"
   ]
  },
  {
   "cell_type": "code",
   "execution_count": 190,
   "id": "af391552",
   "metadata": {},
   "outputs": [
    {
     "data": {
      "text/html": [
       "<div>\n",
       "<style scoped>\n",
       "    .dataframe tbody tr th:only-of-type {\n",
       "        vertical-align: middle;\n",
       "    }\n",
       "\n",
       "    .dataframe tbody tr th {\n",
       "        vertical-align: top;\n",
       "    }\n",
       "\n",
       "    .dataframe thead th {\n",
       "        text-align: right;\n",
       "    }\n",
       "</style>\n",
       "<table border=\"1\" class=\"dataframe\">\n",
       "  <thead>\n",
       "    <tr style=\"text-align: right;\">\n",
       "      <th></th>\n",
       "      <th>Handset Manufacturer</th>\n",
       "      <th>Handset Type</th>\n",
       "      <th>Dur. (ms)</th>\n",
       "      <th>social_media</th>\n",
       "      <th>google</th>\n",
       "      <th>email</th>\n",
       "      <th>youtube</th>\n",
       "      <th>netflix</th>\n",
       "      <th>gaming</th>\n",
       "      <th>other</th>\n",
       "      <th>total_data</th>\n",
       "    </tr>\n",
       "  </thead>\n",
       "  <tbody>\n",
       "    <tr>\n",
       "      <th>0</th>\n",
       "      <td>Samsung</td>\n",
       "      <td>Samsung Galaxy A5 Sm-A520F</td>\n",
       "      <td>1,823,652.00</td>\n",
       "      <td>1,570,185.00</td>\n",
       "      <td>2,905,912.00</td>\n",
       "      <td>3,701,304.00</td>\n",
       "      <td>18,355,943.00</td>\n",
       "      <td>17,855,187.00</td>\n",
       "      <td>292,426,453.00</td>\n",
       "      <td>180,558,843.00</td>\n",
       "      <td>73,499,482.00</td>\n",
       "    </tr>\n",
       "    <tr>\n",
       "      <th>1</th>\n",
       "      <td>Samsung</td>\n",
       "      <td>Samsung Galaxy J5 (Sm-J530)</td>\n",
       "      <td>1,365,104.00</td>\n",
       "      <td>1,933,278.00</td>\n",
       "      <td>4,414,096.00</td>\n",
       "      <td>937,385.00</td>\n",
       "      <td>39,359,124.00</td>\n",
       "      <td>35,565,545.00</td>\n",
       "      <td>609,920,783.00</td>\n",
       "      <td>541,959,383.00</td>\n",
       "      <td>107,600,782.00</td>\n",
       "    </tr>\n",
       "    <tr>\n",
       "      <th>2</th>\n",
       "      <td>Samsung</td>\n",
       "      <td>Samsung Galaxy A8 (2018)</td>\n",
       "      <td>1,361,762.00</td>\n",
       "      <td>1,726,277.00</td>\n",
       "      <td>10,229,119.00</td>\n",
       "      <td>3,363,124.00</td>\n",
       "      <td>34,425,237.00</td>\n",
       "      <td>23,751,202.00</td>\n",
       "      <td>229,980,251.00</td>\n",
       "      <td>414,908,351.00</td>\n",
       "      <td>55,767,276.00</td>\n",
       "    </tr>\n",
       "    <tr>\n",
       "      <th>3</th>\n",
       "      <td>undefined</td>\n",
       "      <td>undefined</td>\n",
       "      <td>1,321,509.00</td>\n",
       "      <td>657,493.00</td>\n",
       "      <td>11,811,761.00</td>\n",
       "      <td>2,070,983.00</td>\n",
       "      <td>36,534,765.00</td>\n",
       "      <td>15,092,588.00</td>\n",
       "      <td>810,387,875.00</td>\n",
       "      <td>761,837,216.00</td>\n",
       "      <td>86,648,436.00</td>\n",
       "    </tr>\n",
       "    <tr>\n",
       "      <th>4</th>\n",
       "      <td>Samsung</td>\n",
       "      <td>Samsung Sm-G390F</td>\n",
       "      <td>1,089,009.00</td>\n",
       "      <td>912,788.00</td>\n",
       "      <td>7,748,843.00</td>\n",
       "      <td>2,110,349.00</td>\n",
       "      <td>34,222,253.00</td>\n",
       "      <td>17,539,799.00</td>\n",
       "      <td>531,237,049.00</td>\n",
       "      <td>564,619,822.00</td>\n",
       "      <td>77,085,628.00</td>\n",
       "    </tr>\n",
       "  </tbody>\n",
       "</table>\n",
       "</div>"
      ],
      "text/plain": [
       "  Handset Manufacturer                 Handset Type    Dur. (ms)  \\\n",
       "0              Samsung   Samsung Galaxy A5 Sm-A520F 1,823,652.00   \n",
       "1              Samsung  Samsung Galaxy J5 (Sm-J530) 1,365,104.00   \n",
       "2              Samsung     Samsung Galaxy A8 (2018) 1,361,762.00   \n",
       "3            undefined                    undefined 1,321,509.00   \n",
       "4              Samsung             Samsung Sm-G390F 1,089,009.00   \n",
       "\n",
       "   social_media        google        email       youtube       netflix  \\\n",
       "0  1,570,185.00  2,905,912.00 3,701,304.00 18,355,943.00 17,855,187.00   \n",
       "1  1,933,278.00  4,414,096.00   937,385.00 39,359,124.00 35,565,545.00   \n",
       "2  1,726,277.00 10,229,119.00 3,363,124.00 34,425,237.00 23,751,202.00   \n",
       "3    657,493.00 11,811,761.00 2,070,983.00 36,534,765.00 15,092,588.00   \n",
       "4    912,788.00  7,748,843.00 2,110,349.00 34,222,253.00 17,539,799.00   \n",
       "\n",
       "          gaming          other     total_data  \n",
       "0 292,426,453.00 180,558,843.00  73,499,482.00  \n",
       "1 609,920,783.00 541,959,383.00 107,600,782.00  \n",
       "2 229,980,251.00 414,908,351.00  55,767,276.00  \n",
       "3 810,387,875.00 761,837,216.00  86,648,436.00  \n",
       "4 531,237,049.00 564,619,822.00  77,085,628.00  "
      ]
     },
     "execution_count": 190,
     "metadata": {},
     "output_type": "execute_result"
    }
   ],
   "source": [
    "df_explore.head()"
   ]
  },
  {
   "cell_type": "code",
   "execution_count": 191,
   "id": "d389e8c8",
   "metadata": {},
   "outputs": [],
   "source": [
    "#Converting byte data into megabytes\n",
    "def convert_bytes_to_megabytes(df, bytes_data):\n",
    "\n",
    "        megabyte = 1*10e+5\n",
    "        megabyte_col = df[bytes_data] / megabyte\n",
    "\n",
    "        return megabyte_col"
   ]
  },
  {
   "cell_type": "code",
   "execution_count": 192,
   "id": "a765419a",
   "metadata": {},
   "outputs": [
    {
     "name": "stderr",
     "output_type": "stream",
     "text": [
      "<ipython-input-192-1be746749a83>:1: SettingWithCopyWarning: \n",
      "A value is trying to be set on a copy of a slice from a DataFrame.\n",
      "Try using .loc[row_indexer,col_indexer] = value instead\n",
      "\n",
      "See the caveats in the documentation: https://pandas.pydata.org/pandas-docs/stable/user_guide/indexing.html#returning-a-view-versus-a-copy\n",
      "  df_explore['social_media'] = convert_bytes_to_megabytes(df_explore, 'social_media')\n",
      "<ipython-input-192-1be746749a83>:3: SettingWithCopyWarning: \n",
      "A value is trying to be set on a copy of a slice from a DataFrame.\n",
      "Try using .loc[row_indexer,col_indexer] = value instead\n",
      "\n",
      "See the caveats in the documentation: https://pandas.pydata.org/pandas-docs/stable/user_guide/indexing.html#returning-a-view-versus-a-copy\n",
      "  df_explore['google'] = convert_bytes_to_megabytes(df_explore, 'google')\n",
      "<ipython-input-192-1be746749a83>:5: SettingWithCopyWarning: \n",
      "A value is trying to be set on a copy of a slice from a DataFrame.\n",
      "Try using .loc[row_indexer,col_indexer] = value instead\n",
      "\n",
      "See the caveats in the documentation: https://pandas.pydata.org/pandas-docs/stable/user_guide/indexing.html#returning-a-view-versus-a-copy\n",
      "  df_explore['email'] = convert_bytes_to_megabytes(df_explore, 'email')\n",
      "<ipython-input-192-1be746749a83>:7: SettingWithCopyWarning: \n",
      "A value is trying to be set on a copy of a slice from a DataFrame.\n",
      "Try using .loc[row_indexer,col_indexer] = value instead\n",
      "\n",
      "See the caveats in the documentation: https://pandas.pydata.org/pandas-docs/stable/user_guide/indexing.html#returning-a-view-versus-a-copy\n",
      "  df_explore['youtube'] = convert_bytes_to_megabytes(df_explore, 'youtube')\n",
      "<ipython-input-192-1be746749a83>:9: SettingWithCopyWarning: \n",
      "A value is trying to be set on a copy of a slice from a DataFrame.\n",
      "Try using .loc[row_indexer,col_indexer] = value instead\n",
      "\n",
      "See the caveats in the documentation: https://pandas.pydata.org/pandas-docs/stable/user_guide/indexing.html#returning-a-view-versus-a-copy\n",
      "  df_explore['netflix'] = convert_bytes_to_megabytes(df_explore, 'netflix')\n",
      "<ipython-input-192-1be746749a83>:11: SettingWithCopyWarning: \n",
      "A value is trying to be set on a copy of a slice from a DataFrame.\n",
      "Try using .loc[row_indexer,col_indexer] = value instead\n",
      "\n",
      "See the caveats in the documentation: https://pandas.pydata.org/pandas-docs/stable/user_guide/indexing.html#returning-a-view-versus-a-copy\n",
      "  df_explore['gaming'] = convert_bytes_to_megabytes(df_explore, 'gaming')\n",
      "<ipython-input-192-1be746749a83>:13: SettingWithCopyWarning: \n",
      "A value is trying to be set on a copy of a slice from a DataFrame.\n",
      "Try using .loc[row_indexer,col_indexer] = value instead\n",
      "\n",
      "See the caveats in the documentation: https://pandas.pydata.org/pandas-docs/stable/user_guide/indexing.html#returning-a-view-versus-a-copy\n",
      "  df_explore['total_data'] = convert_bytes_to_megabytes(df_explore, 'total_data')\n",
      "<ipython-input-192-1be746749a83>:15: SettingWithCopyWarning: \n",
      "A value is trying to be set on a copy of a slice from a DataFrame.\n",
      "Try using .loc[row_indexer,col_indexer] = value instead\n",
      "\n",
      "See the caveats in the documentation: https://pandas.pydata.org/pandas-docs/stable/user_guide/indexing.html#returning-a-view-versus-a-copy\n",
      "  df_explore['other'] = convert_bytes_to_megabytes(df_explore, 'other')\n"
     ]
    }
   ],
   "source": [
    "\n",
    "df_explore['social_media'] = convert_bytes_to_megabytes(df_explore, 'social_media')\n",
    "\n",
    "df_explore['google'] = convert_bytes_to_megabytes(df_explore, 'google')\n",
    "\n",
    "df_explore['email'] = convert_bytes_to_megabytes(df_explore, 'email')\n",
    "\n",
    "df_explore['youtube'] = convert_bytes_to_megabytes(df_explore, 'youtube')\n",
    "\n",
    "df_explore['netflix'] = convert_bytes_to_megabytes(df_explore, 'netflix')\n",
    "\n",
    "df_explore['gaming'] = convert_bytes_to_megabytes(df_explore, 'gaming')\n",
    "\n",
    "df_explore['total_data'] = convert_bytes_to_megabytes(df_explore, 'total_data')\n",
    "\n",
    "df_explore['other'] = convert_bytes_to_megabytes(df_explore, 'other')"
   ]
  },
  {
   "cell_type": "code",
   "execution_count": 193,
   "id": "56a4682a",
   "metadata": {},
   "outputs": [],
   "source": [
    "#Univarent non graphical analysis\n",
    "quntitative_df = df_explore[['Dur. (ms)', 'social_media', 'google', 'email', 'youtube', 'netflix',\n",
    "                                 'gaming', 'total_data' ]]"
   ]
  },
  {
   "cell_type": "code",
   "execution_count": 194,
   "id": "d0b341a5",
   "metadata": {},
   "outputs": [
    {
     "data": {
      "text/html": [
       "<div>\n",
       "<style scoped>\n",
       "    .dataframe tbody tr th:only-of-type {\n",
       "        vertical-align: middle;\n",
       "    }\n",
       "\n",
       "    .dataframe tbody tr th {\n",
       "        vertical-align: top;\n",
       "    }\n",
       "\n",
       "    .dataframe thead th {\n",
       "        text-align: right;\n",
       "    }\n",
       "</style>\n",
       "<table border=\"1\" class=\"dataframe\">\n",
       "  <thead>\n",
       "    <tr style=\"text-align: right;\">\n",
       "      <th></th>\n",
       "      <th>count</th>\n",
       "      <th>mean</th>\n",
       "      <th>std</th>\n",
       "      <th>min</th>\n",
       "      <th>25%</th>\n",
       "      <th>50%</th>\n",
       "      <th>75%</th>\n",
       "      <th>max</th>\n",
       "    </tr>\n",
       "  </thead>\n",
       "  <tbody>\n",
       "    <tr>\n",
       "      <th>Dur. (ms)</th>\n",
       "      <td>150,001.00</td>\n",
       "      <td>104,608.52</td>\n",
       "      <td>81,037.35</td>\n",
       "      <td>7,142.00</td>\n",
       "      <td>57,442.00</td>\n",
       "      <td>86,399.00</td>\n",
       "      <td>132,430.00</td>\n",
       "      <td>1,859,336.00</td>\n",
       "    </tr>\n",
       "    <tr>\n",
       "      <th>social_media</th>\n",
       "      <td>150,001.00</td>\n",
       "      <td>1.83</td>\n",
       "      <td>1.04</td>\n",
       "      <td>0.00</td>\n",
       "      <td>0.93</td>\n",
       "      <td>1.83</td>\n",
       "      <td>2.73</td>\n",
       "      <td>3.65</td>\n",
       "    </tr>\n",
       "    <tr>\n",
       "      <th>google</th>\n",
       "      <td>150,001.00</td>\n",
       "      <td>7.81</td>\n",
       "      <td>3.52</td>\n",
       "      <td>0.04</td>\n",
       "      <td>4.94</td>\n",
       "      <td>7.81</td>\n",
       "      <td>10.68</td>\n",
       "      <td>15.53</td>\n",
       "    </tr>\n",
       "    <tr>\n",
       "      <th>email</th>\n",
       "      <td>150,001.00</td>\n",
       "      <td>2.26</td>\n",
       "      <td>1.07</td>\n",
       "      <td>0.01</td>\n",
       "      <td>1.36</td>\n",
       "      <td>2.26</td>\n",
       "      <td>3.16</td>\n",
       "      <td>4.52</td>\n",
       "    </tr>\n",
       "    <tr>\n",
       "      <th>youtube</th>\n",
       "      <td>150,001.00</td>\n",
       "      <td>22.64</td>\n",
       "      <td>9.25</td>\n",
       "      <td>0.08</td>\n",
       "      <td>16.00</td>\n",
       "      <td>22.66</td>\n",
       "      <td>29.29</td>\n",
       "      <td>45.19</td>\n",
       "    </tr>\n",
       "    <tr>\n",
       "      <th>netflix</th>\n",
       "      <td>150,001.00</td>\n",
       "      <td>22.63</td>\n",
       "      <td>9.26</td>\n",
       "      <td>0.10</td>\n",
       "      <td>15.98</td>\n",
       "      <td>22.64</td>\n",
       "      <td>29.29</td>\n",
       "      <td>45.20</td>\n",
       "    </tr>\n",
       "    <tr>\n",
       "      <th>gaming</th>\n",
       "      <td>150,001.00</td>\n",
       "      <td>430.33</td>\n",
       "      <td>244.02</td>\n",
       "      <td>0.31</td>\n",
       "      <td>218.73</td>\n",
       "      <td>431.61</td>\n",
       "      <td>641.42</td>\n",
       "      <td>859.20</td>\n",
       "    </tr>\n",
       "    <tr>\n",
       "      <th>total_data</th>\n",
       "      <td>150,001.00</td>\n",
       "      <td>82.24</td>\n",
       "      <td>22.55</td>\n",
       "      <td>5.73</td>\n",
       "      <td>66.44</td>\n",
       "      <td>82.29</td>\n",
       "      <td>98.07</td>\n",
       "      <td>156.66</td>\n",
       "    </tr>\n",
       "  </tbody>\n",
       "</table>\n",
       "</div>"
      ],
      "text/plain": [
       "                  count       mean       std      min       25%       50%  \\\n",
       "Dur. (ms)    150,001.00 104,608.52 81,037.35 7,142.00 57,442.00 86,399.00   \n",
       "social_media 150,001.00       1.83      1.04     0.00      0.93      1.83   \n",
       "google       150,001.00       7.81      3.52     0.04      4.94      7.81   \n",
       "email        150,001.00       2.26      1.07     0.01      1.36      2.26   \n",
       "youtube      150,001.00      22.64      9.25     0.08     16.00     22.66   \n",
       "netflix      150,001.00      22.63      9.26     0.10     15.98     22.64   \n",
       "gaming       150,001.00     430.33    244.02     0.31    218.73    431.61   \n",
       "total_data   150,001.00      82.24     22.55     5.73     66.44     82.29   \n",
       "\n",
       "                    75%          max  \n",
       "Dur. (ms)    132,430.00 1,859,336.00  \n",
       "social_media       2.73         3.65  \n",
       "google            10.68        15.53  \n",
       "email              3.16         4.52  \n",
       "youtube           29.29        45.19  \n",
       "netflix           29.29        45.20  \n",
       "gaming           641.42       859.20  \n",
       "total_data        98.07       156.66  "
      ]
     },
     "execution_count": 194,
     "metadata": {},
     "output_type": "execute_result"
    }
   ],
   "source": [
    "quntitative_df.describe().transpose()"
   ]
  },
  {
   "cell_type": "code",
   "execution_count": 195,
   "id": "54c5b04a",
   "metadata": {},
   "outputs": [
    {
     "data": {
      "image/png": "[encoded data removed]",
      "text/plain": [
       "<Figure size 864x504 with 1 Axes>"
      ]
     },
     "metadata": {
      "needs_background": "light"
     },
     "output_type": "display_data"
    },
    {
     "data": {
      "image/png": "[encoded data removed]",
      "text/plain": [
       "<Figure size 864x504 with 1 Axes>"
      ]
     },
     "metadata": {
      "needs_background": "light"
     },
     "output_type": "display_data"
    },
    {
     "data": {
      "image/png": "[encoded data removed]",
      "text/plain": [
       "<Figure size 864x504 with 1 Axes>"
      ]
     },
     "metadata": {
      "needs_background": "light"
     },
     "output_type": "display_data"
    },
    {
     "data": {
      "image/png": "[encoded data removed]",
      "text/plain": [
       "<Figure size 864x504 with 1 Axes>"
      ]
     },
     "metadata": {
      "needs_background": "light"
     },
     "output_type": "display_data"
    },
    {
     "data": {
      "image/png": "[encoded data removed]",
      "text/plain": [
       "<Figure size 864x504 with 1 Axes>"
      ]
     },
     "metadata": {
      "needs_background": "light"
     },
     "output_type": "display_data"
    },
    {
     "data": {
      "image/png": "[encoded data removed]",
      "text/plain": [
       "<Figure size 864x504 with 1 Axes>"
      ]
     },
     "metadata": {
      "needs_background": "light"
     },
     "output_type": "display_data"
    }
   ],
   "source": [
    "#Univarent graphical analysis\n",
    "#Checking for Outliers\n",
    "\n",
    "def plot_box(df:pd.DataFrame, x_col:str, title:str) -> None:\n",
    "    plt.figure(figsize=(12, 7))\n",
    "    sns.boxplot(data = df, x=x_col)\n",
    "    plt.title(title, size=20)\n",
    "    plt.xticks(rotation=75, fontsize=14)\n",
    "    plt.show()\n",
    "    \n",
    "plot_box(quntitative_df, \"youtube\", \"youtube outliers\")\n",
    "\n",
    "plot_box(quntitative_df, \"social_media\", \"social_media outliers\")\n",
    "\n",
    "plot_box(quntitative_df, \"google\", \"google outliers\")\n",
    "\n",
    "plot_box(quntitative_df, \"email\", \"email outliers\")\n",
    "\n",
    "plot_box(quntitative_df, \"netflix\", \"netflix outliers\")\n",
    "\n",
    "plot_box(quntitative_df, \"total_data\", \"total_data outliers\")"
   ]
  },
  {
   "cell_type": "code",
   "execution_count": 196,
   "id": "ac18ade9",
   "metadata": {},
   "outputs": [
    {
     "data": {
      "image/png": "[encoded data removed]",
      "text/plain": [
       "<Figure size 864x504 with 1 Axes>"
      ]
     },
     "metadata": {
      "needs_background": "light"
     },
     "output_type": "display_data"
    }
   ],
   "source": [
    "plot_box(quntitative_df, \"Dur. (ms)\", \"duration\")"
   ]
  },
  {
   "cell_type": "code",
   "execution_count": 197,
   "id": "f93bf912",
   "metadata": {},
   "outputs": [
    {
     "name": "stderr",
     "output_type": "stream",
     "text": [
      "<ipython-input-197-46defdc0b648>:1: SettingWithCopyWarning: \n",
      "A value is trying to be set on a copy of a slice from a DataFrame.\n",
      "Try using .loc[row_indexer,col_indexer] = value instead\n",
      "\n",
      "See the caveats in the documentation: https://pandas.pydata.org/pandas-docs/stable/user_guide/indexing.html#returning-a-view-versus-a-copy\n",
      "  quntitative_df['Dur. (ms)'] = np.where(quntitative_df['Dur. (ms)'] > quntitative_df['Dur. (ms)'].quantile(0.95),\n"
     ]
    },
    {
     "data": {
      "image/png": "[encoded data removed]",
      "text/plain": [
       "<Figure size 864x504 with 1 Axes>"
      ]
     },
     "metadata": {
      "needs_background": "light"
     },
     "output_type": "display_data"
    }
   ],
   "source": [
    "quntitative_df['Dur. (ms)'] = np.where(quntitative_df['Dur. (ms)'] > quntitative_df['Dur. (ms)'].quantile(0.95),\n",
    "                                         quntitative_df['Dur. (ms)'].mode(),quntitative_df['Dur. (ms)'])\n",
    "plot_box(quntitative_df, \"Dur. (ms)\", \"duration\")"
   ]
  },
  {
   "cell_type": "code",
   "execution_count": 198,
   "id": "8d7abe3b",
   "metadata": {
    "scrolled": false
   },
   "outputs": [
    {
     "data": {
      "text/plain": [
       "<Figure size 648x504 with 0 Axes>"
      ]
     },
     "metadata": {},
     "output_type": "display_data"
    },
    {
     "data": {
      "image/png": "[encoded data removed]",
      "text/plain": [
       "<Figure size 1008x504 with 1 Axes>"
      ]
     },
     "metadata": {
      "needs_background": "light"
     },
     "output_type": "display_data"
    },
    {
     "data": {
      "text/plain": [
       "<Figure size 648x504 with 0 Axes>"
      ]
     },
     "metadata": {},
     "output_type": "display_data"
    },
    {
     "data": {
      "image/png": "[encoded data removed]",
      "text/plain": [
       "<Figure size 1008x504 with 1 Axes>"
      ]
     },
     "metadata": {
      "needs_background": "light"
     },
     "output_type": "display_data"
    },
    {
     "data": {
      "text/plain": [
       "<Figure size 648x504 with 0 Axes>"
      ]
     },
     "metadata": {},
     "output_type": "display_data"
    },
    {
     "data": {
      "image/png": "[encoded data removed]",
      "text/plain": [
       "<Figure size 1008x504 with 1 Axes>"
      ]
     },
     "metadata": {
      "needs_background": "light"
     },
     "output_type": "display_data"
    },
    {
     "data": {
      "text/plain": [
       "<Figure size 648x504 with 0 Axes>"
      ]
     },
     "metadata": {},
     "output_type": "display_data"
    },
    {
     "data": {
      "image/png": "[encoded data removed]",
      "text/plain": [
       "<Figure size 1008x504 with 1 Axes>"
      ]
     },
     "metadata": {
      "needs_background": "light"
     },
     "output_type": "display_data"
    },
    {
     "data": {
      "text/plain": [
       "<Figure size 648x504 with 0 Axes>"
      ]
     },
     "metadata": {},
     "output_type": "display_data"
    },
    {
     "data": {
      "image/png": "[encoded data removed]",
      "text/plain": [
       "<Figure size 1008x504 with 1 Axes>"
      ]
     },
     "metadata": {
      "needs_background": "light"
     },
     "output_type": "display_data"
    },
    {
     "data": {
      "text/plain": [
       "<Figure size 648x504 with 0 Axes>"
      ]
     },
     "metadata": {},
     "output_type": "display_data"
    },
    {
     "data": {
      "image/png": "[encoded data removed]",
      "text/plain": [
       "<Figure size 1008x504 with 1 Axes>"
      ]
     },
     "metadata": {
      "needs_background": "light"
     },
     "output_type": "display_data"
    },
    {
     "data": {
      "text/plain": [
       "<Figure size 648x504 with 0 Axes>"
      ]
     },
     "metadata": {},
     "output_type": "display_data"
    },
    {
     "data": {
      "image/png": "[encoded data removed]",
      "text/plain": [
       "<Figure size 1008x504 with 1 Axes>"
      ]
     },
     "metadata": {
      "needs_background": "light"
     },
     "output_type": "display_data"
    }
   ],
   "source": [
    "def plot_hist(df:pd.DataFrame, column:str, color:str)->None:\n",
    "    plt.figure(figsize=(9, 7))\n",
    "    sns.displot(data=df, x=column, color=color, kde=True, height=7, aspect=2)\n",
    "    plt.title(f'Distribution of {column}', size=20, fontweight='bold')\n",
    "    plt.show()\n",
    "    \n",
    "    \n",
    "plot_hist(quntitative_df, 'netflix', color='red')\n",
    "\n",
    "plot_hist(quntitative_df, 'gaming', color='green')\n",
    "\n",
    "plot_hist(quntitative_df, 'google', color='yellow')\n",
    "\n",
    "plot_hist(quntitative_df.sample(1000), 'Dur. (ms)', color='purple')\n",
    "\n",
    "plot_hist(quntitative_df, 'social_media', color='pink')\n",
    "\n",
    "plot_hist(quntitative_df, 'youtube', color='orange')\n",
    "\n",
    "plot_hist(quntitative_df, 'email', color='blue')"
   ]
  },
  {
   "cell_type": "code",
   "execution_count": 199,
   "id": "74ab79d7",
   "metadata": {},
   "outputs": [
    {
     "data": {
      "text/html": [
       "<div>\n",
       "<style scoped>\n",
       "    .dataframe tbody tr th:only-of-type {\n",
       "        vertical-align: middle;\n",
       "    }\n",
       "\n",
       "    .dataframe tbody tr th {\n",
       "        vertical-align: top;\n",
       "    }\n",
       "\n",
       "    .dataframe thead th {\n",
       "        text-align: right;\n",
       "    }\n",
       "</style>\n",
       "<table border=\"1\" class=\"dataframe\">\n",
       "  <thead>\n",
       "    <tr style=\"text-align: right;\">\n",
       "      <th></th>\n",
       "      <th>Bearer Id</th>\n",
       "      <th>Start</th>\n",
       "      <th>Start ms</th>\n",
       "      <th>End</th>\n",
       "      <th>End ms</th>\n",
       "      <th>Dur. (ms)</th>\n",
       "      <th>IMSI</th>\n",
       "      <th>MSISDN/Number</th>\n",
       "      <th>IMEI</th>\n",
       "      <th>Last Location Name</th>\n",
       "      <th>...</th>\n",
       "      <th>Total UL (Bytes)</th>\n",
       "      <th>Total DL (Bytes)</th>\n",
       "      <th>social_media</th>\n",
       "      <th>google</th>\n",
       "      <th>email</th>\n",
       "      <th>youtube</th>\n",
       "      <th>netflix</th>\n",
       "      <th>gaming</th>\n",
       "      <th>other</th>\n",
       "      <th>total_data</th>\n",
       "    </tr>\n",
       "  </thead>\n",
       "  <tbody>\n",
       "    <tr>\n",
       "      <th>0</th>\n",
       "      <td>13,114,483,460,844,900,352.00</td>\n",
       "      <td>4/4/2019 12:01</td>\n",
       "      <td>770.00</td>\n",
       "      <td>4/25/2019 14:35</td>\n",
       "      <td>662.00</td>\n",
       "      <td>1,823,652.00</td>\n",
       "      <td>208,201,448,079,117.00</td>\n",
       "      <td>33,664,962,239.00</td>\n",
       "      <td>35,521,209,507,511.00</td>\n",
       "      <td>9.16456699548519E+015</td>\n",
       "      <td>...</td>\n",
       "      <td>36,749,741.00</td>\n",
       "      <td>308,879,636.00</td>\n",
       "      <td>1,570,185.00</td>\n",
       "      <td>2,905,912.00</td>\n",
       "      <td>3,701,304.00</td>\n",
       "      <td>18,355,943.00</td>\n",
       "      <td>17,855,187.00</td>\n",
       "      <td>292,426,453.00</td>\n",
       "      <td>180,558,843.00</td>\n",
       "      <td>73,499,482.00</td>\n",
       "    </tr>\n",
       "    <tr>\n",
       "      <th>1</th>\n",
       "      <td>13,114,483,482,878,900,224.00</td>\n",
       "      <td>4/9/2019 13:04</td>\n",
       "      <td>235.00</td>\n",
       "      <td>4/25/2019 8:15</td>\n",
       "      <td>606.00</td>\n",
       "      <td>1,365,104.00</td>\n",
       "      <td>208,201,909,211,140.00</td>\n",
       "      <td>33,681,854,413.00</td>\n",
       "      <td>35,794,009,006,359.00</td>\n",
       "      <td>L77566A</td>\n",
       "      <td>...</td>\n",
       "      <td>53,800,391.00</td>\n",
       "      <td>653,384,965.00</td>\n",
       "      <td>1,933,278.00</td>\n",
       "      <td>4,414,096.00</td>\n",
       "      <td>937,385.00</td>\n",
       "      <td>39,359,124.00</td>\n",
       "      <td>35,565,545.00</td>\n",
       "      <td>609,920,783.00</td>\n",
       "      <td>541,959,383.00</td>\n",
       "      <td>107,600,782.00</td>\n",
       "    </tr>\n",
       "    <tr>\n",
       "      <th>2</th>\n",
       "      <td>13,114,483,484,080,500,736.00</td>\n",
       "      <td>4/9/2019 17:42</td>\n",
       "      <td>1.00</td>\n",
       "      <td>4/25/2019 11:58</td>\n",
       "      <td>652.00</td>\n",
       "      <td>1,361,762.00</td>\n",
       "      <td>208,200,314,458,056.00</td>\n",
       "      <td>33,760,627,129.00</td>\n",
       "      <td>35,281,510,359,387.00</td>\n",
       "      <td>D42335A</td>\n",
       "      <td>...</td>\n",
       "      <td>27,883,638.00</td>\n",
       "      <td>279,807,335.00</td>\n",
       "      <td>1,726,277.00</td>\n",
       "      <td>10,229,119.00</td>\n",
       "      <td>3,363,124.00</td>\n",
       "      <td>34,425,237.00</td>\n",
       "      <td>23,751,202.00</td>\n",
       "      <td>229,980,251.00</td>\n",
       "      <td>414,908,351.00</td>\n",
       "      <td>55,767,276.00</td>\n",
       "    </tr>\n",
       "    <tr>\n",
       "      <th>3</th>\n",
       "      <td>13,114,483,485,442,799,616.00</td>\n",
       "      <td>4/10/2019 0:31</td>\n",
       "      <td>486.00</td>\n",
       "      <td>4/25/2019 7:36</td>\n",
       "      <td>171.00</td>\n",
       "      <td>1,321,509.00</td>\n",
       "      <td>208,201,402,342,131.00</td>\n",
       "      <td>33,750,343,200.00</td>\n",
       "      <td>35,356,610,164,913.00</td>\n",
       "      <td>T21824A</td>\n",
       "      <td>...</td>\n",
       "      <td>43,324,218.00</td>\n",
       "      <td>846,028,530.00</td>\n",
       "      <td>657,493.00</td>\n",
       "      <td>11,811,761.00</td>\n",
       "      <td>2,070,983.00</td>\n",
       "      <td>36,534,765.00</td>\n",
       "      <td>15,092,588.00</td>\n",
       "      <td>810,387,875.00</td>\n",
       "      <td>761,837,216.00</td>\n",
       "      <td>86,648,436.00</td>\n",
       "    </tr>\n",
       "    <tr>\n",
       "      <th>4</th>\n",
       "      <td>13,114,483,499,480,700,928.00</td>\n",
       "      <td>4/12/2019 20:10</td>\n",
       "      <td>565.00</td>\n",
       "      <td>4/25/2019 10:40</td>\n",
       "      <td>954.00</td>\n",
       "      <td>1,089,009.00</td>\n",
       "      <td>208,201,401,415,120.00</td>\n",
       "      <td>33,699,795,932.00</td>\n",
       "      <td>35,407,009,745,539.00</td>\n",
       "      <td>D88865A</td>\n",
       "      <td>...</td>\n",
       "      <td>38,542,814.00</td>\n",
       "      <td>569,138,589.00</td>\n",
       "      <td>912,788.00</td>\n",
       "      <td>7,748,843.00</td>\n",
       "      <td>2,110,349.00</td>\n",
       "      <td>34,222,253.00</td>\n",
       "      <td>17,539,799.00</td>\n",
       "      <td>531,237,049.00</td>\n",
       "      <td>564,619,822.00</td>\n",
       "      <td>77,085,628.00</td>\n",
       "    </tr>\n",
       "    <tr>\n",
       "      <th>...</th>\n",
       "      <td>...</td>\n",
       "      <td>...</td>\n",
       "      <td>...</td>\n",
       "      <td>...</td>\n",
       "      <td>...</td>\n",
       "      <td>...</td>\n",
       "      <td>...</td>\n",
       "      <td>...</td>\n",
       "      <td>...</td>\n",
       "      <td>...</td>\n",
       "      <td>...</td>\n",
       "      <td>...</td>\n",
       "      <td>...</td>\n",
       "      <td>...</td>\n",
       "      <td>...</td>\n",
       "      <td>...</td>\n",
       "      <td>...</td>\n",
       "      <td>...</td>\n",
       "      <td>...</td>\n",
       "      <td>...</td>\n",
       "      <td>...</td>\n",
       "    </tr>\n",
       "    <tr>\n",
       "      <th>149996</th>\n",
       "      <td>7,277,825,670,196,679,680.00</td>\n",
       "      <td>4/29/2019 7:28</td>\n",
       "      <td>451.00</td>\n",
       "      <td>4/30/2019 6:02</td>\n",
       "      <td>214.00</td>\n",
       "      <td>81,230.00</td>\n",
       "      <td>208,202,201,200,072.00</td>\n",
       "      <td>33,650,688,697.00</td>\n",
       "      <td>35,483,109,451,938.00</td>\n",
       "      <td>D20434A</td>\n",
       "      <td>...</td>\n",
       "      <td>57,628,851.00</td>\n",
       "      <td>574,175,259.00</td>\n",
       "      <td>3,517,065.00</td>\n",
       "      <td>12,784,914.00</td>\n",
       "      <td>690,876.00</td>\n",
       "      <td>27,955,095.00</td>\n",
       "      <td>37,561,864.00</td>\n",
       "      <td>535,806,880.00</td>\n",
       "      <td>16,751,926.00</td>\n",
       "      <td>115,257,702.00</td>\n",
       "    </tr>\n",
       "    <tr>\n",
       "      <th>149997</th>\n",
       "      <td>7,349,883,264,234,609,664.00</td>\n",
       "      <td>4/29/2019 7:28</td>\n",
       "      <td>483.00</td>\n",
       "      <td>4/30/2019 10:41</td>\n",
       "      <td>187.00</td>\n",
       "      <td>97,970.00</td>\n",
       "      <td>208,201,908,153,249.00</td>\n",
       "      <td>33,663,449,963.00</td>\n",
       "      <td>35,660,508,296,467.00</td>\n",
       "      <td>D10223C</td>\n",
       "      <td>...</td>\n",
       "      <td>39,135,081.00</td>\n",
       "      <td>666,648,844.00</td>\n",
       "      <td>2,352,181.00</td>\n",
       "      <td>4,415,361.00</td>\n",
       "      <td>2,121,718.00</td>\n",
       "      <td>22,165,518.00</td>\n",
       "      <td>40,643,294.00</td>\n",
       "      <td>631,628,095.00</td>\n",
       "      <td>714,638,145.00</td>\n",
       "      <td>78,270,162.00</td>\n",
       "    </tr>\n",
       "    <tr>\n",
       "      <th>149998</th>\n",
       "      <td>13,114,483,573,367,300,096.00</td>\n",
       "      <td>4/29/2019 7:28</td>\n",
       "      <td>283.00</td>\n",
       "      <td>4/30/2019 10:46</td>\n",
       "      <td>810.00</td>\n",
       "      <td>98,249.00</td>\n",
       "      <td>208,201,711,161,187.00</td>\n",
       "      <td>33,621,890,103.00</td>\n",
       "      <td>35,721,209,870,907.00</td>\n",
       "      <td>T51102A</td>\n",
       "      <td>...</td>\n",
       "      <td>34,912,224.00</td>\n",
       "      <td>592,786,405.00</td>\n",
       "      <td>1,260,239.00</td>\n",
       "      <td>6,585,469.00</td>\n",
       "      <td>2,058,277.00</td>\n",
       "      <td>24,516,413.00</td>\n",
       "      <td>15,029,702.00</td>\n",
       "      <td>566,933,800.00</td>\n",
       "      <td>132,415,585.00</td>\n",
       "      <td>69,824,448.00</td>\n",
       "    </tr>\n",
       "    <tr>\n",
       "      <th>149999</th>\n",
       "      <td>13,114,483,573,367,300,096.00</td>\n",
       "      <td>4/29/2019 7:28</td>\n",
       "      <td>696.00</td>\n",
       "      <td>4/30/2019 10:40</td>\n",
       "      <td>327.00</td>\n",
       "      <td>97,910.00</td>\n",
       "      <td>208,202,101,098,075.00</td>\n",
       "      <td>33,619,622,058.00</td>\n",
       "      <td>86,186,204,011,457.00</td>\n",
       "      <td>L88342B</td>\n",
       "      <td>...</td>\n",
       "      <td>29,626,096.00</td>\n",
       "      <td>371,895,920.00</td>\n",
       "      <td>823,109.00</td>\n",
       "      <td>7,757,267.00</td>\n",
       "      <td>2,850,914.00</td>\n",
       "      <td>17,122,508.00</td>\n",
       "      <td>16,494,842.00</td>\n",
       "      <td>355,066,446.00</td>\n",
       "      <td>816,120,043.00</td>\n",
       "      <td>59,252,192.00</td>\n",
       "    </tr>\n",
       "    <tr>\n",
       "      <th>150000</th>\n",
       "      <td>13,114,483,573,367,300,096.00</td>\n",
       "      <td>4/29/2019 7:28</td>\n",
       "      <td>696.00</td>\n",
       "      <td>4/30/2019 10:40</td>\n",
       "      <td>327.00</td>\n",
       "      <td>97,910.00</td>\n",
       "      <td>208,202,101,098,075.00</td>\n",
       "      <td>33,626,320,676.00</td>\n",
       "      <td>35,182,310,355,840.00</td>\n",
       "      <td>L88342B</td>\n",
       "      <td>...</td>\n",
       "      <td>29,626,096.00</td>\n",
       "      <td>371,895,920.00</td>\n",
       "      <td>1,828,250.21</td>\n",
       "      <td>7,807,294.55</td>\n",
       "      <td>2,259,102.31</td>\n",
       "      <td>22,643,482.64</td>\n",
       "      <td>22,628,606.54</td>\n",
       "      <td>430,333,100.71</td>\n",
       "      <td>429,365,343.62</td>\n",
       "      <td>59,252,192.00</td>\n",
       "    </tr>\n",
       "  </tbody>\n",
       "</table>\n",
       "<p>150001 rows × 53 columns</p>\n",
       "</div>"
      ],
      "text/plain": [
       "                           Bearer Id            Start  Start ms  \\\n",
       "0      13,114,483,460,844,900,352.00   4/4/2019 12:01    770.00   \n",
       "1      13,114,483,482,878,900,224.00   4/9/2019 13:04    235.00   \n",
       "2      13,114,483,484,080,500,736.00   4/9/2019 17:42      1.00   \n",
       "3      13,114,483,485,442,799,616.00   4/10/2019 0:31    486.00   \n",
       "4      13,114,483,499,480,700,928.00  4/12/2019 20:10    565.00   \n",
       "...                              ...              ...       ...   \n",
       "149996  7,277,825,670,196,679,680.00   4/29/2019 7:28    451.00   \n",
       "149997  7,349,883,264,234,609,664.00   4/29/2019 7:28    483.00   \n",
       "149998 13,114,483,573,367,300,096.00   4/29/2019 7:28    283.00   \n",
       "149999 13,114,483,573,367,300,096.00   4/29/2019 7:28    696.00   \n",
       "150000 13,114,483,573,367,300,096.00   4/29/2019 7:28    696.00   \n",
       "\n",
       "                    End  End ms    Dur. (ms)                   IMSI  \\\n",
       "0       4/25/2019 14:35  662.00 1,823,652.00 208,201,448,079,117.00   \n",
       "1        4/25/2019 8:15  606.00 1,365,104.00 208,201,909,211,140.00   \n",
       "2       4/25/2019 11:58  652.00 1,361,762.00 208,200,314,458,056.00   \n",
       "3        4/25/2019 7:36  171.00 1,321,509.00 208,201,402,342,131.00   \n",
       "4       4/25/2019 10:40  954.00 1,089,009.00 208,201,401,415,120.00   \n",
       "...                 ...     ...          ...                    ...   \n",
       "149996   4/30/2019 6:02  214.00    81,230.00 208,202,201,200,072.00   \n",
       "149997  4/30/2019 10:41  187.00    97,970.00 208,201,908,153,249.00   \n",
       "149998  4/30/2019 10:46  810.00    98,249.00 208,201,711,161,187.00   \n",
       "149999  4/30/2019 10:40  327.00    97,910.00 208,202,101,098,075.00   \n",
       "150000  4/30/2019 10:40  327.00    97,910.00 208,202,101,098,075.00   \n",
       "\n",
       "           MSISDN/Number                  IMEI     Last Location Name  ...  \\\n",
       "0      33,664,962,239.00 35,521,209,507,511.00  9.16456699548519E+015  ...   \n",
       "1      33,681,854,413.00 35,794,009,006,359.00                L77566A  ...   \n",
       "2      33,760,627,129.00 35,281,510,359,387.00                D42335A  ...   \n",
       "3      33,750,343,200.00 35,356,610,164,913.00                T21824A  ...   \n",
       "4      33,699,795,932.00 35,407,009,745,539.00                D88865A  ...   \n",
       "...                  ...                   ...                    ...  ...   \n",
       "149996 33,650,688,697.00 35,483,109,451,938.00                D20434A  ...   \n",
       "149997 33,663,449,963.00 35,660,508,296,467.00                D10223C  ...   \n",
       "149998 33,621,890,103.00 35,721,209,870,907.00                T51102A  ...   \n",
       "149999 33,619,622,058.00 86,186,204,011,457.00                L88342B  ...   \n",
       "150000 33,626,320,676.00 35,182,310,355,840.00                L88342B  ...   \n",
       "\n",
       "        Total UL (Bytes)  Total DL (Bytes)  social_media        google  \\\n",
       "0          36,749,741.00    308,879,636.00  1,570,185.00  2,905,912.00   \n",
       "1          53,800,391.00    653,384,965.00  1,933,278.00  4,414,096.00   \n",
       "2          27,883,638.00    279,807,335.00  1,726,277.00 10,229,119.00   \n",
       "3          43,324,218.00    846,028,530.00    657,493.00 11,811,761.00   \n",
       "4          38,542,814.00    569,138,589.00    912,788.00  7,748,843.00   \n",
       "...                  ...               ...           ...           ...   \n",
       "149996     57,628,851.00    574,175,259.00  3,517,065.00 12,784,914.00   \n",
       "149997     39,135,081.00    666,648,844.00  2,352,181.00  4,415,361.00   \n",
       "149998     34,912,224.00    592,786,405.00  1,260,239.00  6,585,469.00   \n",
       "149999     29,626,096.00    371,895,920.00    823,109.00  7,757,267.00   \n",
       "150000     29,626,096.00    371,895,920.00  1,828,250.21  7,807,294.55   \n",
       "\n",
       "              email       youtube       netflix         gaming          other  \\\n",
       "0      3,701,304.00 18,355,943.00 17,855,187.00 292,426,453.00 180,558,843.00   \n",
       "1        937,385.00 39,359,124.00 35,565,545.00 609,920,783.00 541,959,383.00   \n",
       "2      3,363,124.00 34,425,237.00 23,751,202.00 229,980,251.00 414,908,351.00   \n",
       "3      2,070,983.00 36,534,765.00 15,092,588.00 810,387,875.00 761,837,216.00   \n",
       "4      2,110,349.00 34,222,253.00 17,539,799.00 531,237,049.00 564,619,822.00   \n",
       "...             ...           ...           ...            ...            ...   \n",
       "149996   690,876.00 27,955,095.00 37,561,864.00 535,806,880.00  16,751,926.00   \n",
       "149997 2,121,718.00 22,165,518.00 40,643,294.00 631,628,095.00 714,638,145.00   \n",
       "149998 2,058,277.00 24,516,413.00 15,029,702.00 566,933,800.00 132,415,585.00   \n",
       "149999 2,850,914.00 17,122,508.00 16,494,842.00 355,066,446.00 816,120,043.00   \n",
       "150000 2,259,102.31 22,643,482.64 22,628,606.54 430,333,100.71 429,365,343.62   \n",
       "\n",
       "           total_data  \n",
       "0       73,499,482.00  \n",
       "1      107,600,782.00  \n",
       "2       55,767,276.00  \n",
       "3       86,648,436.00  \n",
       "4       77,085,628.00  \n",
       "...               ...  \n",
       "149996 115,257,702.00  \n",
       "149997  78,270,162.00  \n",
       "149998  69,824,448.00  \n",
       "149999  59,252,192.00  \n",
       "150000  59,252,192.00  \n",
       "\n",
       "[150001 rows x 53 columns]"
      ]
     },
     "execution_count": 199,
     "metadata": {},
     "output_type": "execute_result"
    }
   ],
   "source": [
    "dfExp = df_clean.copy()\n",
    "dfExp"
   ]
  },
  {
   "cell_type": "code",
   "execution_count": 200,
   "id": "e0072710",
   "metadata": {},
   "outputs": [
    {
     "data": {
      "text/plain": [
       "Bearer Id                         float64\n",
       "Start                              object\n",
       "Start ms                          float64\n",
       "End                                object\n",
       "End ms                            float64\n",
       "Dur. (ms)                         float64\n",
       "IMSI                              float64\n",
       "MSISDN/Number                     float64\n",
       "IMEI                              float64\n",
       "Last Location Name                 object\n",
       "Avg RTT DL (ms)                   float64\n",
       "Avg RTT UL (ms)                   float64\n",
       "Avg Bearer TP DL (kbps)           float64\n",
       "Avg Bearer TP UL (kbps)           float64\n",
       "DL TP < 50 Kbps (%)               float64\n",
       "50 Kbps < DL TP < 250 Kbps (%)    float64\n",
       "250 Kbps < DL TP < 1 Mbps (%)     float64\n",
       "DL TP > 1 Mbps (%)                float64\n",
       "UL TP < 10 Kbps (%)               float64\n",
       "10 Kbps < UL TP < 50 Kbps (%)     float64\n",
       "50 Kbps < UL TP < 300 Kbps (%)    float64\n",
       "UL TP > 300 Kbps (%)              float64\n",
       "Activity Duration DL (ms)         float64\n",
       "Activity Duration UL (ms)         float64\n",
       "Dur. (ms).1                       float64\n",
       "Handset Manufacturer               object\n",
       "Handset Type                       object\n",
       "Nb of sec with Vol DL < 6250B     float64\n",
       "Nb of sec with Vol UL < 1250B     float64\n",
       "Social Media DL (Bytes)           float64\n",
       "Social Media UL (Bytes)           float64\n",
       "Google DL (Bytes)                 float64\n",
       "Google UL (Bytes)                 float64\n",
       "Email DL (Bytes)                  float64\n",
       "Email UL (Bytes)                  float64\n",
       "Youtube DL (Bytes)                float64\n",
       "Youtube UL (Bytes)                float64\n",
       "Netflix DL (Bytes)                float64\n",
       "Netflix UL (Bytes)                float64\n",
       "Gaming DL (Bytes)                 float64\n",
       "Gaming UL (Bytes)                 float64\n",
       "Other DL (Bytes)                  float64\n",
       "Other UL (Bytes)                  float64\n",
       "Total UL (Bytes)                  float64\n",
       "Total DL (Bytes)                  float64\n",
       "social_media                      float64\n",
       "google                            float64\n",
       "email                             float64\n",
       "youtube                           float64\n",
       "netflix                           float64\n",
       "gaming                            float64\n",
       "other                             float64\n",
       "total_data                        float64\n",
       "dtype: object"
      ]
     },
     "execution_count": 200,
     "metadata": {},
     "output_type": "execute_result"
    }
   ],
   "source": [
    "dfExp.dtypes\n"
   ]
  },
  {
   "cell_type": "code",
   "execution_count": 201,
   "id": "12c0cdab",
   "metadata": {
    "scrolled": false
   },
   "outputs": [
    {
     "data": {
      "text/plain": [
       "<Figure size 648x504 with 0 Axes>"
      ]
     },
     "metadata": {},
     "output_type": "display_data"
    },
    {
     "data": {
      "image/png": "[encoded data removed]",
      "text/plain": [
       "<Figure size 1008x504 with 1 Axes>"
      ]
     },
     "metadata": {
      "needs_background": "light"
     },
     "output_type": "display_data"
    }
   ],
   "source": [
    "plot_hist(dfExp, \"Total DL (Bytes)\", \"yellow\")"
   ]
  },
  {
   "cell_type": "code",
   "execution_count": 202,
   "id": "4bb89c9a",
   "metadata": {},
   "outputs": [],
   "source": [
    "# this function converts bytes into megabytes\n",
    "# it accepts df, and a column with byte values\n",
    "# returned a column which its values are converted into mega bytes\n",
    "\n",
    "def convert_bytes_to_megabytes(df, bytes_data):\n",
    "\n",
    "        megabyte = 1*10e+5\n",
    "        megabyte_col = df[bytes_data] / megabyte\n",
    "\n",
    "        return megabyte_col"
   ]
  },
  {
   "cell_type": "code",
   "execution_count": 203,
   "id": "3a054553",
   "metadata": {},
   "outputs": [],
   "source": [
    "df_clean['social_media'] = convert_bytes_to_megabytes(df_clean, 'social_media')\n",
    "\n",
    "df_clean['google'] = convert_bytes_to_megabytes(df_clean, 'google')\n",
    "\n",
    "df_clean['email'] = convert_bytes_to_megabytes(df_clean, 'email')\n",
    "\n",
    "df_clean['youtube'] = convert_bytes_to_megabytes(df_clean, 'youtube')\n",
    "\n",
    "df_clean['netflix'] = convert_bytes_to_megabytes(df_clean, 'netflix')\n",
    "\n",
    "df_clean['gaming'] = convert_bytes_to_megabytes(df_clean, 'gaming')\n",
    "\n",
    "df_clean['total_data'] = convert_bytes_to_megabytes(df_clean, 'total_data')\n"
   ]
  },
  {
   "cell_type": "code",
   "execution_count": 204,
   "id": "e20c3078",
   "metadata": {},
   "outputs": [
    {
     "data": {
      "text/html": [
       "<div>\n",
       "<style scoped>\n",
       "    .dataframe tbody tr th:only-of-type {\n",
       "        vertical-align: middle;\n",
       "    }\n",
       "\n",
       "    .dataframe tbody tr th {\n",
       "        vertical-align: top;\n",
       "    }\n",
       "\n",
       "    .dataframe thead th {\n",
       "        text-align: right;\n",
       "    }\n",
       "</style>\n",
       "<table border=\"1\" class=\"dataframe\">\n",
       "  <thead>\n",
       "    <tr style=\"text-align: right;\">\n",
       "      <th></th>\n",
       "      <th>social_media</th>\n",
       "      <th>google</th>\n",
       "      <th>email</th>\n",
       "      <th>youtube</th>\n",
       "      <th>netflix</th>\n",
       "      <th>gaming</th>\n",
       "      <th>total_data</th>\n",
       "    </tr>\n",
       "    <tr>\n",
       "      <th>MSISDN/Number</th>\n",
       "      <th></th>\n",
       "      <th></th>\n",
       "      <th></th>\n",
       "      <th></th>\n",
       "      <th></th>\n",
       "      <th></th>\n",
       "      <th></th>\n",
       "    </tr>\n",
       "  </thead>\n",
       "  <tbody>\n",
       "    <tr>\n",
       "      <th>33,601,001,722.00</th>\n",
       "      <td>2.23</td>\n",
       "      <td>4.39</td>\n",
       "      <td>1.33</td>\n",
       "      <td>21.62</td>\n",
       "      <td>27.18</td>\n",
       "      <td>812.46</td>\n",
       "      <td>72.11</td>\n",
       "    </tr>\n",
       "    <tr>\n",
       "      <th>33,601,001,754.00</th>\n",
       "      <td>2.66</td>\n",
       "      <td>5.33</td>\n",
       "      <td>3.31</td>\n",
       "      <td>12.43</td>\n",
       "      <td>11.22</td>\n",
       "      <td>119.75</td>\n",
       "      <td>72.21</td>\n",
       "    </tr>\n",
       "    <tr>\n",
       "      <th>33,601,002,511.00</th>\n",
       "      <td>3.20</td>\n",
       "      <td>3.44</td>\n",
       "      <td>3.21</td>\n",
       "      <td>21.33</td>\n",
       "      <td>19.35</td>\n",
       "      <td>538.83</td>\n",
       "      <td>78.61</td>\n",
       "    </tr>\n",
       "    <tr>\n",
       "      <th>33,601,007,832.00</th>\n",
       "      <td>0.28</td>\n",
       "      <td>9.68</td>\n",
       "      <td>2.28</td>\n",
       "      <td>6.98</td>\n",
       "      <td>1.94</td>\n",
       "      <td>391.13</td>\n",
       "      <td>40.66</td>\n",
       "    </tr>\n",
       "    <tr>\n",
       "      <th>33,601,008,617.00</th>\n",
       "      <td>2.91</td>\n",
       "      <td>18.50</td>\n",
       "      <td>3.31</td>\n",
       "      <td>41.53</td>\n",
       "      <td>49.20</td>\n",
       "      <td>1,314.80</td>\n",
       "      <td>188.56</td>\n",
       "    </tr>\n",
       "    <tr>\n",
       "      <th>...</th>\n",
       "      <td>...</td>\n",
       "      <td>...</td>\n",
       "      <td>...</td>\n",
       "      <td>...</td>\n",
       "      <td>...</td>\n",
       "      <td>...</td>\n",
       "      <td>...</td>\n",
       "    </tr>\n",
       "    <tr>\n",
       "      <th>33,789,996,170.00</th>\n",
       "      <td>0.30</td>\n",
       "      <td>7.53</td>\n",
       "      <td>1.01</td>\n",
       "      <td>26.65</td>\n",
       "      <td>14.90</td>\n",
       "      <td>660.36</td>\n",
       "      <td>53.43</td>\n",
       "    </tr>\n",
       "    <tr>\n",
       "      <th>33,789,997,247.00</th>\n",
       "      <td>0.50</td>\n",
       "      <td>5.43</td>\n",
       "      <td>2.51</td>\n",
       "      <td>19.85</td>\n",
       "      <td>8.53</td>\n",
       "      <td>437.00</td>\n",
       "      <td>71.46</td>\n",
       "    </tr>\n",
       "    <tr>\n",
       "      <th>3,197,020,876,596.00</th>\n",
       "      <td>0.72</td>\n",
       "      <td>10.44</td>\n",
       "      <td>1.52</td>\n",
       "      <td>11.96</td>\n",
       "      <td>26.59</td>\n",
       "      <td>178.05</td>\n",
       "      <td>74.59</td>\n",
       "    </tr>\n",
       "    <tr>\n",
       "      <th>337,000,037,000,919.00</th>\n",
       "      <td>0.52</td>\n",
       "      <td>9.83</td>\n",
       "      <td>3.32</td>\n",
       "      <td>36.73</td>\n",
       "      <td>30.91</td>\n",
       "      <td>510.14</td>\n",
       "      <td>113.31</td>\n",
       "    </tr>\n",
       "    <tr>\n",
       "      <th>882,397,108,489,451.00</th>\n",
       "      <td>1.55</td>\n",
       "      <td>9.22</td>\n",
       "      <td>3.33</td>\n",
       "      <td>40.94</td>\n",
       "      <td>28.85</td>\n",
       "      <td>43.07</td>\n",
       "      <td>120.91</td>\n",
       "    </tr>\n",
       "  </tbody>\n",
       "</table>\n",
       "<p>106856 rows × 7 columns</p>\n",
       "</div>"
      ],
      "text/plain": [
       "                        social_media  google  email  youtube  netflix  \\\n",
       "MSISDN/Number                                                           \n",
       "33,601,001,722.00               2.23    4.39   1.33    21.62    27.18   \n",
       "33,601,001,754.00               2.66    5.33   3.31    12.43    11.22   \n",
       "33,601,002,511.00               3.20    3.44   3.21    21.33    19.35   \n",
       "33,601,007,832.00               0.28    9.68   2.28     6.98     1.94   \n",
       "33,601,008,617.00               2.91   18.50   3.31    41.53    49.20   \n",
       "...                              ...     ...    ...      ...      ...   \n",
       "33,789,996,170.00               0.30    7.53   1.01    26.65    14.90   \n",
       "33,789,997,247.00               0.50    5.43   2.51    19.85     8.53   \n",
       "3,197,020,876,596.00            0.72   10.44   1.52    11.96    26.59   \n",
       "337,000,037,000,919.00          0.52    9.83   3.32    36.73    30.91   \n",
       "882,397,108,489,451.00          1.55    9.22   3.33    40.94    28.85   \n",
       "\n",
       "                         gaming  total_data  \n",
       "MSISDN/Number                                \n",
       "33,601,001,722.00        812.46       72.11  \n",
       "33,601,001,754.00        119.75       72.21  \n",
       "33,601,002,511.00        538.83       78.61  \n",
       "33,601,007,832.00        391.13       40.66  \n",
       "33,601,008,617.00      1,314.80      188.56  \n",
       "...                         ...         ...  \n",
       "33,789,996,170.00        660.36       53.43  \n",
       "33,789,997,247.00        437.00       71.46  \n",
       "3,197,020,876,596.00     178.05       74.59  \n",
       "337,000,037,000,919.00   510.14      113.31  \n",
       "882,397,108,489,451.00    43.07      120.91  \n",
       "\n",
       "[106856 rows x 7 columns]"
      ]
     },
     "execution_count": 204,
     "metadata": {},
     "output_type": "execute_result"
    }
   ],
   "source": [
    "total_data =df_clean[['MSISDN/Number', 'social_media', 'google', 'email', 'youtube', 'netflix',\n",
    "                                 'gaming', 'total_data', 'Handset Manufacturer']]\n",
    "total_data_agg = total_data.groupby('MSISDN/Number').sum()\n",
    "total_data_agg\n"
   ]
  },
  {
   "cell_type": "code",
   "execution_count": 205,
   "id": "ae65ed33",
   "metadata": {},
   "outputs": [
    {
     "data": {
      "text/plain": [
       "count               150,001.00\n",
       "mean    208,201,639,866,698.59\n",
       "std          21,447,400,231.66\n",
       "min     204,047,108,489,451.00\n",
       "25%     208,201,401,263,778.00\n",
       "50%     208,201,546,330,099.00\n",
       "75%     208,201,771,619,138.00\n",
       "max     214,074,303,349,628.00\n",
       "Name: IMSI, dtype: float64"
      ]
     },
     "execution_count": 205,
     "metadata": {},
     "output_type": "execute_result"
    }
   ],
   "source": [
    "dfExp[\"IMSI\"].describe()"
   ]
  },
  {
   "cell_type": "code",
   "execution_count": 206,
   "id": "d4c6fba2",
   "metadata": {},
   "outputs": [
    {
     "data": {
      "image/png": "[encoded data removed]",
      "text/plain": [
       "<Figure size 864x504 with 1 Axes>"
      ]
     },
     "metadata": {
      "needs_background": "light"
     },
     "output_type": "display_data"
    },
    {
     "data": {
      "image/png": "[encoded data removed]",
      "text/plain": [
       "<Figure size 864x504 with 1 Axes>"
      ]
     },
     "metadata": {
      "needs_background": "light"
     },
     "output_type": "display_data"
    },
    {
     "data": {
      "image/png": "[encoded data removed]",
      "text/plain": [
       "<Figure size 864x504 with 1 Axes>"
      ]
     },
     "metadata": {
      "needs_background": "light"
     },
     "output_type": "display_data"
    }
   ],
   "source": [
    "plot_scatter(total_data_agg, 'youtube', 'total_data', 'youtube data vs total data',  None,  None)\n",
    "plot_scatter(total_data_agg, 'email', 'total_data', 'email data vs total data',  None,  None)\n",
    "plot_scatter(total_data_agg, 'gaming', 'total_data', 'gaming data vs total data',  None,  None)"
   ]
  },
  {
   "cell_type": "code",
   "execution_count": 212,
   "id": "fd3ee171",
   "metadata": {},
   "outputs": [
    {
     "data": {
      "text/html": [
       "<div>\n",
       "<style scoped>\n",
       "    .dataframe tbody tr th:only-of-type {\n",
       "        vertical-align: middle;\n",
       "    }\n",
       "\n",
       "    .dataframe tbody tr th {\n",
       "        vertical-align: top;\n",
       "    }\n",
       "\n",
       "    .dataframe thead th {\n",
       "        text-align: right;\n",
       "    }\n",
       "</style>\n",
       "<table border=\"1\" class=\"dataframe\">\n",
       "  <thead>\n",
       "    <tr style=\"text-align: right;\">\n",
       "      <th></th>\n",
       "      <th>app</th>\n",
       "      <th>total</th>\n",
       "    </tr>\n",
       "  </thead>\n",
       "  <tbody>\n",
       "    <tr>\n",
       "      <th>0</th>\n",
       "      <td>social_media</td>\n",
       "      <td>6,273,663,386,779,266.00</td>\n",
       "    </tr>\n",
       "    <tr>\n",
       "      <th>1</th>\n",
       "      <td>google</td>\n",
       "      <td>274,239.36</td>\n",
       "    </tr>\n",
       "    <tr>\n",
       "      <th>2</th>\n",
       "      <td>email</td>\n",
       "      <td>1,171,101.99</td>\n",
       "    </tr>\n",
       "    <tr>\n",
       "      <th>3</th>\n",
       "      <td>youtube</td>\n",
       "      <td>338,867.61</td>\n",
       "    </tr>\n",
       "    <tr>\n",
       "      <th>4</th>\n",
       "      <td>netflix</td>\n",
       "      <td>3,396,545.04</td>\n",
       "    </tr>\n",
       "    <tr>\n",
       "      <th>5</th>\n",
       "      <td>gaming</td>\n",
       "      <td>3,394,313.61</td>\n",
       "    </tr>\n",
       "    <tr>\n",
       "      <th>6</th>\n",
       "      <td>other</td>\n",
       "      <td>64,550,395.44</td>\n",
       "    </tr>\n",
       "  </tbody>\n",
       "</table>\n",
       "</div>"
      ],
      "text/plain": [
       "            app                    total\n",
       "0  social_media 6,273,663,386,779,266.00\n",
       "1        google               274,239.36\n",
       "2         email             1,171,101.99\n",
       "3       youtube               338,867.61\n",
       "4       netflix             3,396,545.04\n",
       "5        gaming             3,394,313.61\n",
       "6         other            64,550,395.44"
      ]
     },
     "execution_count": 212,
     "metadata": {},
     "output_type": "execute_result"
    }
   ],
   "source": [
    "social_media_total = total_data.sum()[0]\n",
    "google_total = total_data.sum()[1]\n",
    "email_total = total_data.sum()[2]\n",
    "youtube_total = total_data.sum()[3]\n",
    "netflix_total = total_data.sum()[4]\n",
    "gaming_total = total_data.sum()[5]\n",
    "other = total_data.sum()[6]\n",
    "\n",
    "\n",
    "app_total_count_df = pd.DataFrame(columns=['app', 'total'])\n",
    "app_total_count_df['app'] = ['social_media', 'google', 'email', 'youtube', 'netflix', 'gaming', 'other']\n",
    "\n",
    "app_total_count_df['total'] = [social_media_total, google_total, email_total, youtube_total, netflix_total, gaming_total, other]\n",
    "app_total_count_df"
   ]
  },
  {
   "cell_type": "code",
   "execution_count": 213,
   "id": "54a6852f",
   "metadata": {},
   "outputs": [
    {
     "name": "stderr",
     "output_type": "stream",
     "text": [
      "<ipython-input-213-10073449784c>:9: SettingWithCopyWarning: \n",
      "A value is trying to be set on a copy of a slice from a DataFrame.\n",
      "Try using .loc[row_indexer,col_indexer] = value instead\n",
      "\n",
      "See the caveats in the documentation: https://pandas.pydata.org/pandas-docs/stable/user_guide/indexing.html#returning-a-view-versus-a-copy\n",
      "  scaled_explore_feature_df['Dur. (ms)'] = df_clean['Dur. (ms)']/1000\n"
     ]
    },
    {
     "data": {
      "text/html": [
       "<div>\n",
       "<style scoped>\n",
       "    .dataframe tbody tr th:only-of-type {\n",
       "        vertical-align: middle;\n",
       "    }\n",
       "\n",
       "    .dataframe tbody tr th {\n",
       "        vertical-align: top;\n",
       "    }\n",
       "\n",
       "    .dataframe thead th {\n",
       "        text-align: right;\n",
       "    }\n",
       "</style>\n",
       "<table border=\"1\" class=\"dataframe\">\n",
       "  <thead>\n",
       "    <tr style=\"text-align: right;\">\n",
       "      <th></th>\n",
       "      <th>total_data</th>\n",
       "      <th>duration</th>\n",
       "    </tr>\n",
       "    <tr>\n",
       "      <th>decile</th>\n",
       "      <th></th>\n",
       "      <th></th>\n",
       "    </tr>\n",
       "  </thead>\n",
       "  <tbody>\n",
       "    <tr>\n",
       "      <th>1st_decile</th>\n",
       "      <td>1,909,485.92</td>\n",
       "      <td>644,345.11</td>\n",
       "    </tr>\n",
       "    <tr>\n",
       "      <th>2nd_decile</th>\n",
       "      <td>2,088,855.92</td>\n",
       "      <td>1,807,896.02</td>\n",
       "    </tr>\n",
       "    <tr>\n",
       "      <th>3rd_decile</th>\n",
       "      <td>1,921,035.51</td>\n",
       "      <td>2,124,982.92</td>\n",
       "    </tr>\n",
       "    <tr>\n",
       "      <th>4th_decile</th>\n",
       "      <td>2,315,916.75</td>\n",
       "      <td>3,448,609.66</td>\n",
       "    </tr>\n",
       "    <tr>\n",
       "      <th>5th_decile</th>\n",
       "      <td>4,101,127.05</td>\n",
       "      <td>7,665,548.25</td>\n",
       "    </tr>\n",
       "  </tbody>\n",
       "</table>\n",
       "</div>"
      ],
      "text/plain": [
       "             total_data     duration\n",
       "decile                              \n",
       "1st_decile 1,909,485.92   644,345.11\n",
       "2nd_decile 2,088,855.92 1,807,896.02\n",
       "3rd_decile 1,921,035.51 2,124,982.92\n",
       "4th_decile 2,315,916.75 3,448,609.66\n",
       "5th_decile 4,101,127.05 7,665,548.25"
      ]
     },
     "execution_count": 213,
     "metadata": {},
     "output_type": "execute_result"
    }
   ],
   "source": [
    "from sklearn.preprocessing import MinMaxScaler\n",
    "\n",
    "# I scaled the duration by dividing it to 1000 to easily\n",
    "# compare it with total data which has already been converted to megabytes\n",
    "# code credit Daniel\n",
    "\n",
    "scaled_explore_feature_df = df_clean[['Dur. (ms)', 'total_data', 'MSISDN/Number']]\n",
    "\n",
    "scaled_explore_feature_df['Dur. (ms)'] = df_clean['Dur. (ms)']/1000\n",
    "scaled_explore_feature_df = scaled_explore_feature_df.rename(columns={'Dur. (ms)': 'duration'})\n",
    "\n",
    "scaled_explore_feature_df_agg = scaled_explore_feature_df.groupby('MSISDN/Number').agg({'duration':'sum', 'total_data': 'sum'})\n",
    "\n",
    "deciles = pd.qcut(scaled_explore_feature_df_agg['duration'], 5, labels=[\"1st_decile\", \"2nd_decile\",\n",
    "                                                      \"3rd_decile\", \"4th_decile\",\n",
    "                                                      \"5th_decile\"])\n",
    "\n",
    "\n",
    "\n",
    "explore_feature_df_with_decile = scaled_explore_feature_df_agg.copy()\n",
    "\n",
    "explore_feature_df_with_decile['decile'] = deciles\n",
    "\n",
    "explore_feature_df_with_decile_agg = explore_feature_df_with_decile.groupby('decile').agg({'total_data': 'sum',\n",
    "                                                                                           'duration': 'sum'})\n",
    "explore_feature_df_with_decile_agg\n",
    "\n",
    "\n"
   ]
  },
  {
   "cell_type": "code",
   "execution_count": 214,
   "id": "8da4232f",
   "metadata": {},
   "outputs": [
    {
     "data": {
      "text/plain": [
       "<Figure size 720x504 with 0 Axes>"
      ]
     },
     "metadata": {},
     "output_type": "display_data"
    },
    {
     "data": {
      "image/png": "[encoded data removed]",
      "text/plain": [
       "<Figure size 720x504 with 1 Axes>"
      ]
     },
     "metadata": {
      "needs_background": "light"
     },
     "output_type": "display_data"
    }
   ],
   "source": [
    "plt.figure(figsize=(10,7))\n",
    "explore_feature_df_with_decile_agg.plot(linestyle='-', marker='o', figsize=(10,7),\n",
    "                                        title='Top 5 deciled customers by duration').set_xlabel(\"Decile By Duration\")\n",
    "plt.xticks(np.arange(len(explore_feature_df_with_decile_agg.index)), explore_feature_df_with_decile_agg.index)\n",
    "\n",
    "plt.show()"
   ]
  },
  {
   "cell_type": "code",
   "execution_count": 215,
   "id": "f8bc9cec",
   "metadata": {},
   "outputs": [],
   "source": [
    "def plot_heatmap(df:pd.DataFrame, title:str, cbar=False)->None:\n",
    "    plt.figure(figsize=(12, 7))\n",
    "    sns.heatmap(df, annot=True, cmap='viridis', vmin=0, vmax=1, fmt='.2f', linewidths=.7, cbar=cbar )\n",
    "    plt.title(title, size=18, fontweight='bold')\n",
    "    plt.show()"
   ]
  },
  {
   "cell_type": "code",
   "execution_count": 217,
   "id": "e6955410",
   "metadata": {},
   "outputs": [
    {
     "data": {
      "image/png": "[encoded data removed]",
      "text/plain": [
       "<Figure size 864x504 with 1 Axes>"
      ]
     },
     "metadata": {
      "needs_background": "light"
     },
     "output_type": "display_data"
    },
    {
     "data": {
      "text/html": [
       "<div>\n",
       "<style scoped>\n",
       "    .dataframe tbody tr th:only-of-type {\n",
       "        vertical-align: middle;\n",
       "    }\n",
       "\n",
       "    .dataframe tbody tr th {\n",
       "        vertical-align: top;\n",
       "    }\n",
       "\n",
       "    .dataframe thead th {\n",
       "        text-align: right;\n",
       "    }\n",
       "</style>\n",
       "<table border=\"1\" class=\"dataframe\">\n",
       "  <thead>\n",
       "    <tr style=\"text-align: right;\">\n",
       "      <th></th>\n",
       "      <th>social_media</th>\n",
       "      <th>google</th>\n",
       "      <th>email</th>\n",
       "      <th>youtube</th>\n",
       "      <th>netflix</th>\n",
       "      <th>gaming</th>\n",
       "      <th>other</th>\n",
       "    </tr>\n",
       "  </thead>\n",
       "  <tbody>\n",
       "    <tr>\n",
       "      <th>social_media</th>\n",
       "      <td>1.00</td>\n",
       "      <td>-0.00</td>\n",
       "      <td>0.00</td>\n",
       "      <td>0.00</td>\n",
       "      <td>0.00</td>\n",
       "      <td>0.00</td>\n",
       "      <td>0.01</td>\n",
       "    </tr>\n",
       "    <tr>\n",
       "      <th>google</th>\n",
       "      <td>-0.00</td>\n",
       "      <td>1.00</td>\n",
       "      <td>-0.00</td>\n",
       "      <td>0.00</td>\n",
       "      <td>-0.00</td>\n",
       "      <td>-0.00</td>\n",
       "      <td>-0.00</td>\n",
       "    </tr>\n",
       "    <tr>\n",
       "      <th>email</th>\n",
       "      <td>0.00</td>\n",
       "      <td>-0.00</td>\n",
       "      <td>1.00</td>\n",
       "      <td>-0.00</td>\n",
       "      <td>0.00</td>\n",
       "      <td>-0.00</td>\n",
       "      <td>-0.00</td>\n",
       "    </tr>\n",
       "    <tr>\n",
       "      <th>youtube</th>\n",
       "      <td>0.00</td>\n",
       "      <td>0.00</td>\n",
       "      <td>-0.00</td>\n",
       "      <td>1.00</td>\n",
       "      <td>0.00</td>\n",
       "      <td>-0.00</td>\n",
       "      <td>0.00</td>\n",
       "    </tr>\n",
       "    <tr>\n",
       "      <th>netflix</th>\n",
       "      <td>0.00</td>\n",
       "      <td>-0.00</td>\n",
       "      <td>0.00</td>\n",
       "      <td>0.00</td>\n",
       "      <td>1.00</td>\n",
       "      <td>-0.00</td>\n",
       "      <td>-0.01</td>\n",
       "    </tr>\n",
       "    <tr>\n",
       "      <th>gaming</th>\n",
       "      <td>0.00</td>\n",
       "      <td>-0.00</td>\n",
       "      <td>-0.00</td>\n",
       "      <td>-0.00</td>\n",
       "      <td>-0.00</td>\n",
       "      <td>1.00</td>\n",
       "      <td>-0.00</td>\n",
       "    </tr>\n",
       "    <tr>\n",
       "      <th>other</th>\n",
       "      <td>0.01</td>\n",
       "      <td>-0.00</td>\n",
       "      <td>-0.00</td>\n",
       "      <td>0.00</td>\n",
       "      <td>-0.01</td>\n",
       "      <td>-0.00</td>\n",
       "      <td>1.00</td>\n",
       "    </tr>\n",
       "  </tbody>\n",
       "</table>\n",
       "</div>"
      ],
      "text/plain": [
       "              social_media  google  email  youtube  netflix  gaming  other\n",
       "social_media          1.00   -0.00   0.00     0.00     0.00    0.00   0.01\n",
       "google               -0.00    1.00  -0.00     0.00    -0.00   -0.00  -0.00\n",
       "email                 0.00   -0.00   1.00    -0.00     0.00   -0.00  -0.00\n",
       "youtube               0.00    0.00  -0.00     1.00     0.00   -0.00   0.00\n",
       "netflix               0.00   -0.00   0.00     0.00     1.00   -0.00  -0.01\n",
       "gaming                0.00   -0.00  -0.00    -0.00    -0.00    1.00  -0.00\n",
       "other                 0.01   -0.00  -0.00     0.00    -0.01   -0.00   1.00"
      ]
     },
     "execution_count": 217,
     "metadata": {},
     "output_type": "execute_result"
    }
   ],
   "source": [
    "total_data_2 = df_clean[['social_media', 'google', 'email', 'youtube', 'netflix',\n",
    "                                 'gaming',  'other']]\n",
    "data_correlation = total_data_2.corr()\n",
    "plot_heatmap(data_correlation, 'Application Data Correlation')\n",
    "data_correlation"
   ]
  },
  {
   "cell_type": "code",
   "execution_count": null,
   "id": "c3038919",
   "metadata": {},
   "outputs": [],
   "source": []
  }
 ],
 "metadata": {
  "colab": {
   "collapsed_sections": [],
   "name": "Data_Cleaning,_Transforming_and_Extraction.ipynb",
   "provenance": []
  },
  "kernelspec": {
   "display_name": "Python 3",
   "language": "python",
   "name": "python3"
  },
  "language_info": {
   "codemirror_mode": {
    "name": "ipython",
    "version": 3
   },
   "file_extension": ".py",
   "mimetype": "text/x-python",
   "name": "python",
   "nbconvert_exporter": "python",
   "pygments_lexer": "ipython3",
   "version": "3.8.8"
  }
 },
 "nbformat": 4,
 "nbformat_minor": 5
}
